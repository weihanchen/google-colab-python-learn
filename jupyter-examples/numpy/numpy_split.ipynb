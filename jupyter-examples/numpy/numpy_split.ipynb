{
  "nbformat": 4,
  "nbformat_minor": 0,
  "metadata": {
    "colab": {
      "provenance": [],
      "authorship_tag": "ABX9TyPVa9XdFPIqvKUVa+3537O/",
      "include_colab_link": true
    },
    "kernelspec": {
      "name": "python3",
      "display_name": "Python 3"
    },
    "language_info": {
      "name": "python"
    }
  },
  "cells": [
    {
      "cell_type": "markdown",
      "metadata": {
        "id": "view-in-github",
        "colab_type": "text"
      },
      "source": [
        "<a href=\"https://colab.research.google.com/github/weihanchen/google-colab-python-learn/blob/main/jupyter-examples/numpy/numpy_split.ipynb\" target=\"_parent\"><img src=\"https://colab.research.google.com/assets/colab-badge.svg\" alt=\"Open In Colab\"/></a>"
      ]
    },
    {
      "cell_type": "markdown",
      "source": [
        "# 【資料處理神器區 - NumPy系列】 分割(Split)的藝術\n",
        "\n",
        "資料切割對於我們進行平行化運作或者是轉換數據的應用上非常重要， 但如何切呢？ 要怎麼切才切的好呢？ 這些是切割的過程常常會面臨的一些問題， 那就讓我們一步步的來解密吧！\n",
        "\n",
        "關於分割的方式有下列幾種選擇， 大致了解一下即可， 接下來我們會分別對這幾種分割方式進行詳細說明:\n",
        "\n",
        "```python\n",
        "# 用於在指定軸上將數組分割成多個子數組。\n",
        "# axis, 這參數應該是較不容易理解的一個參數，預設為「0」，相當於底下的水平分割， 而設定為「1」則為垂直分割\n",
        "# 這邊需要注意的是indices_or_sections與ary的長度必須是能夠整除的關係， 否則會發生錯誤， 簡單來說ary有10個元素， 但要切成3份， 由於無法公平分配， 因此將導致錯誤發生。\n",
        "\n",
        "numpy.split(ary, indices_or_sections, axis=0)\n",
        "\n",
        "# 基本上與上述的使用方式一樣...， 唯一不一樣的是這個方式允許「不等量分割」， 也就是假設ary有10個元素， 切成3份是被允許的。\n",
        "numpy.array_split(ary, indices_or_sections, axis=0)\n",
        "\n",
        "# 水平分割(以欄進行切割)\n",
        "numpy.hsplit(ary, indices_or_sections)\n",
        "\n",
        "# 垂直分割(以列進行切割)\n",
        "numpy.vsplit(ary, indices_or_sections)\n",
        "\n",
        "# 用於深度（第三維度軸）分割數組。\n",
        "# P.S 這個API相對較新， 也是較抽象的部份， 要用心的看下去才能得心應手唷！\n",
        "numpy.dsplit(ary, indices_or_sections)\n",
        "```"
      ],
      "metadata": {
        "id": "jbBiugR3y3Xh"
      }
    },
    {
      "cell_type": "markdown",
      "source": [
        "## numpy.split(ary, indices_or_sections, axis=0)\n",
        "\n",
        "必須等量分割...\n",
        "\n",
        "⚠️ 這邊會特意製造一個情境讓目標及欲切割的份數無法公平分配， 預期將會發生「array split does not result in an equal division」的錯誤。"
      ],
      "metadata": {
        "id": "Kaq8CwxI7cbJ"
      }
    },
    {
      "cell_type": "code",
      "execution_count": null,
      "metadata": {
        "colab": {
          "base_uri": "https://localhost:8080/",
          "height": 394
        },
        "id": "d2jT53YEvtk2",
        "outputId": "33e891a9-dd3f-4013-d862-3a80763eca1e"
      },
      "outputs": [
        {
          "output_type": "error",
          "ename": "ValueError",
          "evalue": "ignored",
          "traceback": [
            "\u001b[0;31m---------------------------------------------------------------------------\u001b[0m",
            "\u001b[0;31mValueError\u001b[0m                                Traceback (most recent call last)",
            "\u001b[0;32m<ipython-input-3-6e9574b45527>\u001b[0m in \u001b[0;36m<cell line: 7>\u001b[0;34m()\u001b[0m\n\u001b[1;32m      5\u001b[0m \u001b[0;34m\u001b[0m\u001b[0m\n\u001b[1;32m      6\u001b[0m \u001b[0;31m# 使用 split 函數將數組平均分割成 3 段\u001b[0m\u001b[0;34m\u001b[0m\u001b[0;34m\u001b[0m\u001b[0m\n\u001b[0;32m----> 7\u001b[0;31m \u001b[0msplitted_arr\u001b[0m \u001b[0;34m=\u001b[0m \u001b[0mnp\u001b[0m\u001b[0;34m.\u001b[0m\u001b[0msplit\u001b[0m\u001b[0;34m(\u001b[0m\u001b[0marr\u001b[0m\u001b[0;34m,\u001b[0m \u001b[0;36m3\u001b[0m\u001b[0;34m)\u001b[0m\u001b[0;34m\u001b[0m\u001b[0;34m\u001b[0m\u001b[0m\n\u001b[0m\u001b[1;32m      8\u001b[0m \u001b[0;34m\u001b[0m\u001b[0m\n\u001b[1;32m      9\u001b[0m \u001b[0;31m# 這邊會切成3份， 但由於10無法整除， 所以分割的狀況會是這樣:\u001b[0m\u001b[0;34m\u001b[0m\u001b[0;34m\u001b[0m\u001b[0m\n",
            "\u001b[0;32m/usr/local/lib/python3.10/dist-packages/numpy/core/overrides.py\u001b[0m in \u001b[0;36msplit\u001b[0;34m(*args, **kwargs)\u001b[0m\n",
            "\u001b[0;32m/usr/local/lib/python3.10/dist-packages/numpy/lib/shape_base.py\u001b[0m in \u001b[0;36msplit\u001b[0;34m(ary, indices_or_sections, axis)\u001b[0m\n\u001b[1;32m    870\u001b[0m         \u001b[0mN\u001b[0m \u001b[0;34m=\u001b[0m \u001b[0mary\u001b[0m\u001b[0;34m.\u001b[0m\u001b[0mshape\u001b[0m\u001b[0;34m[\u001b[0m\u001b[0maxis\u001b[0m\u001b[0;34m]\u001b[0m\u001b[0;34m\u001b[0m\u001b[0;34m\u001b[0m\u001b[0m\n\u001b[1;32m    871\u001b[0m         \u001b[0;32mif\u001b[0m \u001b[0mN\u001b[0m \u001b[0;34m%\u001b[0m \u001b[0msections\u001b[0m\u001b[0;34m:\u001b[0m\u001b[0;34m\u001b[0m\u001b[0;34m\u001b[0m\u001b[0m\n\u001b[0;32m--> 872\u001b[0;31m             raise ValueError(\n\u001b[0m\u001b[1;32m    873\u001b[0m                 'array split does not result in an equal division') from None\n\u001b[1;32m    874\u001b[0m     \u001b[0;32mreturn\u001b[0m \u001b[0marray_split\u001b[0m\u001b[0;34m(\u001b[0m\u001b[0mary\u001b[0m\u001b[0;34m,\u001b[0m \u001b[0mindices_or_sections\u001b[0m\u001b[0;34m,\u001b[0m \u001b[0maxis\u001b[0m\u001b[0;34m)\u001b[0m\u001b[0;34m\u001b[0m\u001b[0;34m\u001b[0m\u001b[0m\n",
            "\u001b[0;31mValueError\u001b[0m: array split does not result in an equal division"
          ]
        }
      ],
      "source": [
        "import numpy as np\n",
        "\n",
        "# 創建一個包含 1 到 10 的一維數組\n",
        "arr = np.arange(1, 11)\n",
        "\n",
        "# 使用 split 函數將數組平均分割成 3 段\n",
        "splitted_arr = np.split(arr, 3)\n",
        "\n",
        "# 這邊會切成3份， 但由於10無法整除， 所以分割的狀況會是這樣:\n",
        "# 「3, 3, 4」\n",
        "print(splitted_arr)"
      ]
    },
    {
      "cell_type": "markdown",
      "source": [
        "## numpy.array_split(ary, indices_or_sections, axis=0)\n",
        "\n",
        "允許不等量分割...\n",
        "\n",
        "一樣使用上述案例來分割， 但這次就沒有發生錯誤囉！ 雖然不公平， 但仍將10等份切成「4, 3, 3」"
      ],
      "metadata": {
        "id": "5hMX3DZK-Lpi"
      }
    },
    {
      "cell_type": "code",
      "source": [
        "import numpy as np\n",
        "\n",
        "# 創建一個包含 1 到 10 的一維數組\n",
        "arr = np.arange(1, 11)\n",
        "\n",
        "# 使用 split 函數將數組平均分割成 3 段\n",
        "splitted_arr = np.array_split(arr, 3)\n",
        "\n",
        "# 這邊會切成3份， 但由於10無法整除， 所以分割的狀況會是這樣:\n",
        "# 「3, 3, 4」\n",
        "print(splitted_arr)"
      ],
      "metadata": {
        "colab": {
          "base_uri": "https://localhost:8080/"
        },
        "id": "3xFzTH6h-cSM",
        "outputId": "0d64a45a-4fff-4d50-e26e-d9946dde7321"
      },
      "execution_count": null,
      "outputs": [
        {
          "output_type": "stream",
          "name": "stdout",
          "text": [
            "[array([1, 2, 3, 4]), array([5, 6, 7]), array([ 8,  9, 10])]\n"
          ]
        }
      ]
    },
    {
      "cell_type": "markdown",
      "source": [
        "## numpy.hsplit(ary, indices_or_sections)\n",
        "\n",
        "水平分割(以欄進行切割)， 這邊較難以理解是因為需要搭配圖來看才會清楚:\n",
        "\n",
        "```\n",
        "1 2 3 4\n",
        "5 6 7 8\n",
        "```\n",
        "\n",
        "切成2欄後:\n",
        "\n",
        "```\n",
        "1 2 | 3 4\n",
        "5 6 | 7 8\n",
        "```\n",
        "\n",
        "以數據結構來說會變成:\n",
        "```\n",
        "[array(1, 2, 5, 6), array(3, 4, 7, 8)]\n",
        "```"
      ],
      "metadata": {
        "id": "LZ3DWPcO-uHJ"
      }
    },
    {
      "cell_type": "code",
      "source": [
        "import numpy as np\n",
        "\n",
        "# 創建一個 2x4 的二維數組\n",
        "arr = np.array([[1, 2, 3, 4],\n",
        "                [5, 6, 7, 8]])\n",
        "\n",
        "# 使用 hsplit 函數將數組水平分割成 2 欄\n",
        "splitted_arr = np.hsplit(arr, 2)\n",
        "\n",
        "splitted_arr"
      ],
      "metadata": {
        "colab": {
          "base_uri": "https://localhost:8080/"
        },
        "id": "K581SN-nAeu0",
        "outputId": "f71a04fc-653d-42c3-da03-8da16d12dcab"
      },
      "execution_count": null,
      "outputs": [
        {
          "output_type": "execute_result",
          "data": {
            "text/plain": [
              "[array([[1, 2],\n",
              "        [5, 6]]),\n",
              " array([[3, 4],\n",
              "        [7, 8]])]"
            ]
          },
          "metadata": {},
          "execution_count": 5
        }
      ]
    },
    {
      "cell_type": "markdown",
      "source": [
        "## numpy.vsplit(ary, indices_or_sections)\n",
        "\n",
        "垂直切割(以列進行切割)\n",
        "\n",
        "```\n",
        "1 2 3 4\n",
        "5 6 7 8\n",
        "```\n",
        "\n",
        "切成2列後:\n",
        "\n",
        "```\n",
        "1 2 3 4\n",
        "-------\n",
        "5 6 7 8\n",
        "```\n",
        "\n",
        "數據結構:\n",
        "\n",
        "```\n",
        "[array(1, 2, 3, 4), array(5, 6, 7, 8)]\n",
        "```"
      ],
      "metadata": {
        "id": "2gQ_DzqWAoSi"
      }
    },
    {
      "cell_type": "code",
      "source": [
        "import numpy as np\n",
        "\n",
        "# 創建一個 2x4 的二維數組\n",
        "arr = np.array([[1, 2, 3, 4],\n",
        "                [5, 6, 7, 8]])\n",
        "\n",
        "# 使用 vsplit 將數據切割成2列\n",
        "splitted_arr = np.vsplit(arr, 2)\n",
        "\n",
        "splitted_arr"
      ],
      "metadata": {
        "colab": {
          "base_uri": "https://localhost:8080/"
        },
        "id": "_5QaOQz7ArdF",
        "outputId": "6cdd4f00-b226-42c9-a979-97b60da79117"
      },
      "execution_count": null,
      "outputs": [
        {
          "output_type": "execute_result",
          "data": {
            "text/plain": [
              "[array([[1, 2, 3, 4]]), array([[5, 6, 7, 8]])]"
            ]
          },
          "metadata": {},
          "execution_count": 6
        }
      ]
    },
    {
      "cell_type": "markdown",
      "source": [
        "## numpy.dsplit(ary, indices_or_sections)"
      ],
      "metadata": {
        "id": "Cl6ahmj3E2uT"
      }
    },
    {
      "cell_type": "code",
      "source": [
        "import numpy as np\n",
        "import matplotlib.pyplot as plt\n",
        "\n",
        "# 創建一個 2x2x4 的三維數組\n",
        "arr = np.array([\n",
        "    [\n",
        "      [1, 2, 3, 4]\n",
        "    ],\n",
        "    [\n",
        "      [5, 6, 7, 8]\n",
        "    ]\n",
        "])\n",
        "\n",
        "# 使用 dsplit 將數據切割\n",
        "splitted_arr = np.dsplit(arr, 2)\n",
        "\n",
        "splitted_arr"
      ],
      "metadata": {
        "colab": {
          "base_uri": "https://localhost:8080/"
        },
        "id": "jhX2P4QuG5zv",
        "outputId": "d3355c91-231b-4021-d01e-2585e4be615c"
      },
      "execution_count": null,
      "outputs": [
        {
          "output_type": "execute_result",
          "data": {
            "text/plain": [
              "[array([[[1, 2]],\n",
              " \n",
              "        [[5, 6]]]),\n",
              " array([[[3, 4]],\n",
              " \n",
              "        [[7, 8]]])]"
            ]
          },
          "metadata": {},
          "execution_count": 2
        }
      ]
    },
    {
      "cell_type": "markdown",
      "source": [
        "## 結語\n",
        "\n",
        "這次主要介紹切割的技巧， 但需要具有空間的概念才會比較容易理解， 因此實作時會比較不直觀一些， 不過沒關係， 多Try幾次就能夠熟悉這樣的概念了， 有了切割之後， 我們就能夠分別對切割後不同批次的資料進行處理， 下一篇章我們會說明如何去合併這些切割過後的資料。"
      ],
      "metadata": {
        "id": "f8O3l1NRPVn9"
      }
    }
  ]
}