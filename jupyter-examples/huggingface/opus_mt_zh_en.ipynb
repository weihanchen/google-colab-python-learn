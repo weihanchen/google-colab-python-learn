{
  "nbformat": 4,
  "nbformat_minor": 0,
  "metadata": {
    "colab": {
      "provenance": [],
      "authorship_tag": "ABX9TyMHDRXx/57jTszAJvgHIsRj",
      "include_colab_link": true
    },
    "kernelspec": {
      "name": "python3",
      "display_name": "Python 3"
    },
    "language_info": {
      "name": "python"
    }
  },
  "cells": [
    {
      "cell_type": "markdown",
      "metadata": {
        "id": "view-in-github",
        "colab_type": "text"
      },
      "source": [
        "<a href=\"https://colab.research.google.com/github/weihanchen/google-colab-python-learn/blob/main/jupyter-examples/huggingface/opus_mt_zh_en.ipynb\" target=\"_parent\"><img src=\"https://colab.research.google.com/assets/colab-badge.svg\" alt=\"Open In Colab\"/></a>"
      ]
    },
    {
      "cell_type": "code",
      "execution_count": null,
      "metadata": {
        "id": "dD0oGgoFahZK"
      },
      "outputs": [],
      "source": [
        "!pip install transformers\n",
        "\n",
        "#  This tokenizer cannot be instantiated. Please make sure you have `sentencepiece` installed in order to use this tokenizer.\n",
        "!pip install sentencepiece\n",
        "\n",
        "!pip install sacremoses"
      ]
    },
    {
      "cell_type": "code",
      "source": [
        "from transformers import pipeline\n",
        "translator = pipeline(\"translation\", model='Helsinki-NLP/opus-mt-zh-en') #使用翻譯任務\n",
        "translator('這是一個很困難的問題')"
      ],
      "metadata": {
        "colab": {
          "base_uri": "https://localhost:8080/"
        },
        "id": "rEh8cq5Hajj1",
        "outputId": "00eebc59-00c2-4bdf-eeda-33fb7ec94def"
      },
      "execution_count": null,
      "outputs": [
        {
          "output_type": "execute_result",
          "data": {
            "text/plain": [
              "[{'translation_text': \"It's a very difficult question.\"}]"
            ]
          },
          "metadata": {},
          "execution_count": 3
        }
      ]
    }
  ]
}