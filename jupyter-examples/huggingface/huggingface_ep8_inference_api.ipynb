{
  "nbformat": 4,
  "nbformat_minor": 0,
  "metadata": {
    "colab": {
      "provenance": [],
      "authorship_tag": "ABX9TyNda3ozgRVGpMcJqpcvEdwp",
      "include_colab_link": true
    },
    "kernelspec": {
      "name": "python3",
      "display_name": "Python 3"
    },
    "language_info": {
      "name": "python"
    }
  },
  "cells": [
    {
      "cell_type": "markdown",
      "metadata": {
        "id": "view-in-github",
        "colab_type": "text"
      },
      "source": [
        "<a href=\"https://colab.research.google.com/github/weihanchen/google-colab-python-learn/blob/main/jupyter-examples/huggingface/huggingface_ep8_inference_api.ipynb\" target=\"_parent\"><img src=\"https://colab.research.google.com/assets/colab-badge.svg\" alt=\"Open In Colab\"/></a>"
      ]
    },
    {
      "cell_type": "markdown",
      "source": [
        "# 【Hugging Face】Ep.8 專業的標準化推理家(Inference API)\n",
        "\n"
      ],
      "metadata": {
        "id": "RGmurnJpQZK_"
      }
    },
    {
      "cell_type": "markdown",
      "source": [
        "## API架構說明\n",
        "第一步我們需要透過**[Model Hub](https://huggingface.co/models)**來找尋模型，基本上API的入口URL結構為：\n",
        "\n",
        "```python\n",
        "# 以上述範例來說為：\n",
        "# https://api-inference.huggingface.co/models/csebuetnlp/mT5_multilingual_XLSum\n",
        "ENDPOINT = https://api-inference.huggingface.co/models/<MODEL_ID>\n",
        "```\n",
        "\n",
        "底下是一個針對於「summarization」類型任務的API樣版，已經附上註解，再請細細品嘗：\n",
        "\n",
        "❗ `API_TOKEN`記得填入， 請至： https://huggingface.co/docs/hub/security-tokens，依照教學進行帳號的註冊與Token的申請。\n",
        "\n",
        "除了python語言之外，也提供javascript與cURL，那這邊就先以python進行說明。\n",
        "\n",
        "其它不同的任務有不同的樣板，請參考「[Detailed parameters](https://huggingface.co/docs/api-inference/detailed_parameters)」。"
      ],
      "metadata": {
        "id": "UGzqaZ4DRju3"
      }
    },
    {
      "cell_type": "code",
      "execution_count": 6,
      "metadata": {
        "colab": {
          "base_uri": "https://localhost:8080/"
        },
        "id": "n7p6Q-GNQR2n",
        "outputId": "2caa5164-7b8a-466f-a614-f6d8f2813203"
      },
      "outputs": [
        {
          "output_type": "execute_result",
          "data": {
            "text/plain": [
              "[{'summary_text': '美國電腦巨頭微軟發現中國黑客組織利用個人簽章金鑰來偽造身分認證權杖,影響歐美地區的25個政府組織。'}]"
            ]
          },
          "metadata": {},
          "execution_count": 6
        }
      ],
      "source": [
        "import requests\n",
        "\n",
        "# 就是所謂的ENDPOINT\n",
        "API_URL = \"https://api-inference.huggingface.co/models/csebuetnlp/mT5_multilingual_XLSum\"\n",
        "\n",
        "# API_TOKEN的部分請至： https://huggingface.co/docs/hub/security-tokens\n",
        "API_TOKEN = '{YOUR_API_TOKEN}'\n",
        "headers = {\"Authorization\": f\"Bearer {API_TOKEN}\"}\n",
        "\n",
        "# 包裝成一個query函式，並設計好請求的payload data\n",
        "def query(payload):\n",
        "\tresponse = requests.post(API_URL, headers=headers, json=payload)\n",
        "\treturn response.json()\n",
        "\n",
        "# 呼叫query函式並帶入payload進行API請求，最終得到推理結果\n",
        "# 文章來自於： https://www.ithome.com.tw/news/157763\n",
        "output = query({\n",
        "\t\"inputs\": \"在接獲美國政府用戶通報下，微軟發現中國駭客組織利用所獲得的一個微軟帳號（MSA）消費者簽章金鑰來偽造身分認證權杖，以存取使用Outlook Web Access in Exchange Online（OWA）及Outlook.com的用戶，估計影響歐美地區的25個政府組織與相關個人\",\n",
        "})\n",
        "\n",
        "output"
      ]
    }
  ]
}