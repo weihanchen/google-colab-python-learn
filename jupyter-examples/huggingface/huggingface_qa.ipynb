{
  "nbformat": 4,
  "nbformat_minor": 0,
  "metadata": {
    "colab": {
      "provenance": [],
      "authorship_tag": "ABX9TyPM2ahcsRFonqXfCq4l+Pii",
      "include_colab_link": true
    },
    "kernelspec": {
      "name": "python3",
      "display_name": "Python 3"
    },
    "language_info": {
      "name": "python"
    }
  },
  "cells": [
    {
      "cell_type": "markdown",
      "metadata": {
        "id": "view-in-github",
        "colab_type": "text"
      },
      "source": [
        "<a href=\"https://colab.research.google.com/github/weihanchen/google-colab-python-learn/blob/main/jupyter-examples/huggingface/huggingface_qa.ipynb\" target=\"_parent\"><img src=\"https://colab.research.google.com/assets/colab-badge.svg\" alt=\"Open In Colab\"/></a>"
      ]
    },
    {
      "cell_type": "markdown",
      "source": [
        "## 安裝套件"
      ],
      "metadata": {
        "id": "z7kZndasA3a6"
      }
    },
    {
      "cell_type": "code",
      "execution_count": null,
      "metadata": {
        "id": "9oWk1pTs_VKD"
      },
      "outputs": [],
      "source": [
        "!pip install transformers"
      ]
    },
    {
      "cell_type": "markdown",
      "source": [
        "## 給予知識文章\n",
        "\n",
        "這邊透過[Chatgpt](https://chat.openai.com/)幫我們產生Google的基礎知識並做為問答系統的基礎知識。"
      ],
      "metadata": {
        "id": "Kw02BQBcA9RY"
      }
    },
    {
      "cell_type": "code",
      "source": [
        "context = \"\"\"\n",
        "Google是一家全球知名的科技公司，成立於1998年，總部位於美國加利福尼亞州的山景城。Google以其在搜尋引擎技術方面的卓越表現而聞名，早期推出的Google搜尋引擎迅速成為全球最受歡迎和廣泛使用的搜尋引擎之一。\n",
        "\n",
        "除了搜尋引擎外，Google還開發和提供了許多其他互聯網產品和服務。其中包括谷歌地圖、谷歌郵箱（Gmail）、谷歌翻譯、谷歌雲端硬碟（Google Drive）等。此外，Google還擁有Android操作系統，該操作系統目前是全球最受歡迎的移動操作系統之一。\n",
        "\n",
        "Google也涉足硬體領域，推出了自己的智慧型手機系列Pixel，以及Pixelbook筆記型電腦、Google Home智慧音箱等產品。此外，Google還在人工智慧（AI）和機器學習領域投入了大量資源，並推出了許多與AI相關的產品和服務，如Google Assistant智慧助理和Google Lens圖像識別技術。\n",
        "\n",
        "除了互聯網產品和服務，Google還在廣告業務方面表現出色。其廣告平台Google Ads為廣告客戶提供了廣告投放和行銷解決方案，並通過廣告收入成為Google的主要盈利來源之一。\n",
        "\n",
        "Google在全球範圍內擁有廣泛的影響力和使用者基礎。其創始人之一拉里·佩奇（Larry Page）和謝爾蓋·布林（Sergey Brin）一直是科技行業的知名人物，Google也是全球最具價值的品牌之一。公司在全球各地設有辦事處和數據中心，員工遍布世界各地。\n",
        "\n",
        "Google一直秉持著使訊息普遍可用和受人們歡迎的使命，致力於提供高質量的產品和服務，並不斷推動科技的創新和發展。\n",
        "\"\"\""
      ],
      "metadata": {
        "id": "tGmxf993DlFx"
      },
      "execution_count": null,
      "outputs": []
    },
    {
      "cell_type": "markdown",
      "source": [
        "## 打造QA任務機器人\n",
        "\n",
        "這邊我們選用[timpal0l/mdeberta-v3-base-squad2](https://huggingface.co/timpal0l/mdeberta-v3-base-squad2)這個模型進行任務。"
      ],
      "metadata": {
        "id": "kNX_ZlupBAbp"
      }
    },
    {
      "cell_type": "code",
      "source": [
        "from transformers import pipeline, AutoTokenizer, AutoModelForQuestionAnswering\n",
        "tokenizer = AutoTokenizer.from_pretrained(\"timpal0l/mdeberta-v3-base-squad2\")\n",
        "model = AutoModelForQuestionAnswering.from_pretrained(\"timpal0l/mdeberta-v3-base-squad2\")\n",
        "qa = pipeline(\"question-answering\", model=model, tokenizer=tokenizer)"
      ],
      "metadata": {
        "id": "XMLyIsVVA6Nw"
      },
      "execution_count": null,
      "outputs": []
    },
    {
      "cell_type": "markdown",
      "source": [
        "## 問與答\n",
        "\n",
        "回答雖然不盡完美， 但已經能夠精確的理解我們的問題並給予接近正確的回答， 見到如此成效， 對於商業嗅覺敏感的朋友來說， 或許已經想到要如何打造一個知識庫問答機器人了吧！\n",
        "\n",
        "後面的章節也會介紹如何自行訓練私有資料庫，並真正的打造私有的專屬問答知識家。"
      ],
      "metadata": {
        "id": "kaaJRfkGaGZW"
      }
    },
    {
      "cell_type": "code",
      "source": [
        "questions = [\n",
        "    '請問Google的主要產品是什麼?',\n",
        "    '請問創始人是誰?',\n",
        "    '請問什麼時候開始的?'\n",
        "]\n",
        "\n",
        "for question in questions:\n",
        "  result = qa(question = question, context = context)\n",
        "  print(result['answer'])"
      ],
      "metadata": {
        "colab": {
          "base_uri": "https://localhost:8080/"
        },
        "id": "3Ka_iMkRaItl",
        "outputId": "aec3ed13-e0df-4182-aad8-7741fff16a8d"
      },
      "execution_count": null,
      "outputs": [
        {
          "output_type": "stream",
          "name": "stdout",
          "text": [
            "平台Google Ads為廣告客戶提供了廣告投放和行銷解決方案，並通過廣告收入成為Google的主要盈利來源之一。\n",
            "\n",
            "Google在全球範圍內擁有廣泛的影響力和使用者基礎。其創始人之一拉里·佩奇（Larry\n",
            "Google是一家全球知名的科技公司，成立於1998年，總部位於美國加利福尼亞州的山景城。Google以其在搜尋引擎技術方面的卓越表現而聞名，早期推出的Google搜尋引擎迅速成為全球最受歡迎和廣泛使用的搜尋引擎之一。\n"
          ]
        }
      ]
    }
  ]
}