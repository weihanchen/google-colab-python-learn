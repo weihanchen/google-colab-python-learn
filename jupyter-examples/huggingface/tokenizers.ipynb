{
  "nbformat": 4,
  "nbformat_minor": 0,
  "metadata": {
    "colab": {
      "provenance": [],
      "authorship_tag": "ABX9TyN0DVNiB+aQsY+IdYEOjcYl",
      "include_colab_link": true
    },
    "kernelspec": {
      "name": "python3",
      "display_name": "Python 3"
    },
    "language_info": {
      "name": "python"
    }
  },
  "cells": [
    {
      "cell_type": "markdown",
      "metadata": {
        "id": "view-in-github",
        "colab_type": "text"
      },
      "source": [
        "<a href=\"https://colab.research.google.com/github/weihanchen/google-colab-python-learn/blob/main/jupyter-examples/huggingface/tokenizers.ipynb\" target=\"_parent\"><img src=\"https://colab.research.google.com/assets/colab-badge.svg\" alt=\"Open In Colab\"/></a>"
      ]
    },
    {
      "cell_type": "markdown",
      "source": [
        "前面我們介紹了「【Hugging Face】Ep.1 平凡人也能玩的起的AI平台」， 我們都知道「詞」是NLP世界中的最小單元， 關於詞的知識歡迎參考:\n",
        "\n",
        "簡單來說，主要的目的是將文本轉換為模型可以處理的數據。\n",
        "\n",
        "經過上述知識的洗禮， 我們對於詞也具有一定的基礎認知， 在「Hugging Face」的平台裡， 處理詞也提供了非常好用的Tokenizer工具， 就讓我們好好的來認識一下唄！"
      ],
      "metadata": {
        "id": "3vq3YDItqbVu"
      }
    },
    {
      "cell_type": "markdown",
      "source": [
        "## 安裝套件"
      ],
      "metadata": {
        "id": "piwGW_DvqjY8"
      }
    },
    {
      "cell_type": "code",
      "source": [
        "!pip install transformers"
      ],
      "metadata": {
        "id": "jXJ-yVTxqgAk"
      },
      "execution_count": null,
      "outputs": []
    },
    {
      "cell_type": "markdown",
      "source": [
        "## 斷詞\n",
        "\n",
        "這邊我們使用「[ckiplab/bert-tiny-chinese](https://huggingface.co/ckiplab/bert-tiny-chinese)」這個模型來進行中文的演示。"
      ],
      "metadata": {
        "id": "IvBkv0J5r7vT"
      }
    },
    {
      "cell_type": "code",
      "execution_count": null,
      "metadata": {
        "colab": {
          "base_uri": "https://localhost:8080/"
        },
        "id": "Ea4-KlagqM24",
        "outputId": "8f745b12-373e-4021-ce6f-019d6937939e"
      },
      "outputs": [
        {
          "output_type": "execute_result",
          "data": {
            "text/plain": [
              "['今', '天', '的', '天', '氣', '很', '好', '。']"
            ]
          },
          "metadata": {},
          "execution_count": 4
        }
      ],
      "source": [
        "from transformers import AutoTokenizer\n",
        "\n",
        "# Initialize tokenzier and model\n",
        "tokenizer = AutoTokenizer.from_pretrained(\"ckiplab/bert-tiny-chinese\")\n",
        "\n",
        "# Input text\n",
        "text = \"今天的天氣很好。\"\n",
        "tokens = tokenizer.tokenize(text)\n",
        "tokens"
      ]
    },
    {
      "cell_type": "markdown",
      "source": [
        "## 轉換成ID編碼"
      ],
      "metadata": {
        "id": "l0VAA7tf6NZN"
      }
    },
    {
      "cell_type": "code",
      "source": [
        "ids = tokenizer.convert_tokens_to_ids(tokens)\n",
        "ids"
      ],
      "metadata": {
        "colab": {
          "base_uri": "https://localhost:8080/"
        },
        "id": "zRNQ62sS6F22",
        "outputId": "a9a2b43e-9454-46a3-cc27-1b171bee067c"
      },
      "execution_count": null,
      "outputs": [
        {
          "output_type": "execute_result",
          "data": {
            "text/plain": [
              "[791, 1921, 4638, 1921, 3706, 2523, 1962, 511]"
            ]
          },
          "metadata": {},
          "execution_count": 25
        }
      ]
    },
    {
      "cell_type": "markdown",
      "source": [
        "## 解碼"
      ],
      "metadata": {
        "id": "90XoJISz6TQk"
      }
    },
    {
      "cell_type": "code",
      "source": [
        "decoded_string = tokenizer.decode([791, 1921, 4638, 1921, 3706, 2523, 1962, 511])\n",
        "decoded_string"
      ],
      "metadata": {
        "colab": {
          "base_uri": "https://localhost:8080/",
          "height": 35
        },
        "id": "W_pgPugA6UTM",
        "outputId": "6306a6c9-2957-46ec-96d5-1f9b8f52ddae"
      },
      "execution_count": null,
      "outputs": [
        {
          "output_type": "execute_result",
          "data": {
            "text/plain": [
              "'今 天 的 天 氣 很 好 。'"
            ],
            "application/vnd.google.colaboratory.intrinsic+json": {
              "type": "string"
            }
          },
          "metadata": {},
          "execution_count": 27
        }
      ]
    }
  ]
}