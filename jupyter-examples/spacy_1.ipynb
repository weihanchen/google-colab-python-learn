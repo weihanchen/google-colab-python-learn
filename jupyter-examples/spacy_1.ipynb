{
  "cells": [
    {
      "cell_type": "markdown",
      "metadata": {
        "id": "view-in-github",
        "colab_type": "text"
      },
      "source": [
        "<a href=\"https://colab.research.google.com/github/weihanchen/google-colab-python-learn/blob/main/jupyter-examples/spacy_1.ipynb\" target=\"_parent\"><img src=\"https://colab.research.google.com/assets/colab-badge.svg\" alt=\"Open In Colab\"/></a>"
      ]
    },
    {
      "cell_type": "markdown",
      "metadata": {
        "id": "e26gc_ZmgXPl"
      },
      "source": [
        "\n",
        "# 【自然語言處理NLP - spaCy系列】善用ChatGPT幫我們訓練出自訂的Name Entity Recognition實體\n",
        "回顧上一個篇章「[【自然語言處理NLP】初探強大的工具庫spaCy， 讓機器讀懂我們的語言]()」我們初步學習`spaCy`這套工具，在尾端進行NER時我們也發現到現有的NER模型並沒有辦法滿足我們的需求，\n",
        "導致有一些實體未被識別出來， 因此這次的任務就是設法進行訓練， 讓我們想要被識別的實體可以被進行識別。\n",
        "\n",
        "\n",
        "這個篇章主要在示範如何利用`spaCy`進行訓練，並非真正要準確做到滿分的NER，因此過程中將以「最簡短的例句」及「CPU」訓練方式完成。\n"
      ]
    },
    {
      "cell_type": "markdown",
      "metadata": {
        "id": "W7HKj_j5gXPn"
      },
      "source": [
        "## 安裝相關套件及下載模型\n",
        "\n",
        "以下幾個步驟我們先將該準備的模型及語句準備好， 再進行調優與訓練。"
      ]
    },
    {
      "cell_type": "code",
      "execution_count": 56,
      "metadata": {
        "colab": {
          "base_uri": "https://localhost:8080/"
        },
        "id": "6863rKf9gXPn",
        "outputId": "40f0659d-b8cd-404f-e3c1-04999c4cb75e"
      },
      "outputs": [
        {
          "output_type": "stream",
          "name": "stdout",
          "text": [
            "Looking in indexes: https://pypi.org/simple, https://us-python.pkg.dev/colab-wheels/public/simple/\n",
            "Requirement already satisfied: spacy in /usr/local/lib/python3.10/dist-packages (3.5.2)\n",
            "Requirement already satisfied: wasabi<1.2.0,>=0.9.1 in /usr/local/lib/python3.10/dist-packages (from spacy) (1.1.1)\n",
            "Requirement already satisfied: spacy-legacy<3.1.0,>=3.0.11 in /usr/local/lib/python3.10/dist-packages (from spacy) (3.0.12)\n",
            "Requirement already satisfied: murmurhash<1.1.0,>=0.28.0 in /usr/local/lib/python3.10/dist-packages (from spacy) (1.0.9)\n",
            "Requirement already satisfied: numpy>=1.15.0 in /usr/local/lib/python3.10/dist-packages (from spacy) (1.22.4)\n",
            "Requirement already satisfied: packaging>=20.0 in /usr/local/lib/python3.10/dist-packages (from spacy) (23.1)\n",
            "Requirement already satisfied: typer<0.8.0,>=0.3.0 in /usr/local/lib/python3.10/dist-packages (from spacy) (0.7.0)\n",
            "Requirement already satisfied: tqdm<5.0.0,>=4.38.0 in /usr/local/lib/python3.10/dist-packages (from spacy) (4.65.0)\n",
            "Requirement already satisfied: smart-open<7.0.0,>=5.2.1 in /usr/local/lib/python3.10/dist-packages (from spacy) (6.3.0)\n",
            "Requirement already satisfied: jinja2 in /usr/local/lib/python3.10/dist-packages (from spacy) (3.1.2)\n",
            "Requirement already satisfied: setuptools in /usr/local/lib/python3.10/dist-packages (from spacy) (67.7.2)\n",
            "Requirement already satisfied: pathy>=0.10.0 in /usr/local/lib/python3.10/dist-packages (from spacy) (0.10.1)\n",
            "Requirement already satisfied: langcodes<4.0.0,>=3.2.0 in /usr/local/lib/python3.10/dist-packages (from spacy) (3.3.0)\n",
            "Requirement already satisfied: catalogue<2.1.0,>=2.0.6 in /usr/local/lib/python3.10/dist-packages (from spacy) (2.0.8)\n",
            "Requirement already satisfied: spacy-loggers<2.0.0,>=1.0.0 in /usr/local/lib/python3.10/dist-packages (from spacy) (1.0.4)\n",
            "Requirement already satisfied: thinc<8.2.0,>=8.1.8 in /usr/local/lib/python3.10/dist-packages (from spacy) (8.1.9)\n",
            "Requirement already satisfied: requests<3.0.0,>=2.13.0 in /usr/local/lib/python3.10/dist-packages (from spacy) (2.27.1)\n",
            "Requirement already satisfied: cymem<2.1.0,>=2.0.2 in /usr/local/lib/python3.10/dist-packages (from spacy) (2.0.7)\n",
            "Requirement already satisfied: srsly<3.0.0,>=2.4.3 in /usr/local/lib/python3.10/dist-packages (from spacy) (2.4.6)\n",
            "Requirement already satisfied: pydantic!=1.8,!=1.8.1,<1.11.0,>=1.7.4 in /usr/local/lib/python3.10/dist-packages (from spacy) (1.10.7)\n",
            "Requirement already satisfied: preshed<3.1.0,>=3.0.2 in /usr/local/lib/python3.10/dist-packages (from spacy) (3.0.8)\n",
            "Requirement already satisfied: typing-extensions>=4.2.0 in /usr/local/lib/python3.10/dist-packages (from pydantic!=1.8,!=1.8.1,<1.11.0,>=1.7.4->spacy) (4.5.0)\n",
            "Requirement already satisfied: certifi>=2017.4.17 in /usr/local/lib/python3.10/dist-packages (from requests<3.0.0,>=2.13.0->spacy) (2022.12.7)\n",
            "Requirement already satisfied: urllib3<1.27,>=1.21.1 in /usr/local/lib/python3.10/dist-packages (from requests<3.0.0,>=2.13.0->spacy) (1.26.15)\n",
            "Requirement already satisfied: charset-normalizer~=2.0.0 in /usr/local/lib/python3.10/dist-packages (from requests<3.0.0,>=2.13.0->spacy) (2.0.12)\n",
            "Requirement already satisfied: idna<4,>=2.5 in /usr/local/lib/python3.10/dist-packages (from requests<3.0.0,>=2.13.0->spacy) (3.4)\n",
            "Requirement already satisfied: blis<0.8.0,>=0.7.8 in /usr/local/lib/python3.10/dist-packages (from thinc<8.2.0,>=8.1.8->spacy) (0.7.9)\n",
            "Requirement already satisfied: confection<1.0.0,>=0.0.1 in /usr/local/lib/python3.10/dist-packages (from thinc<8.2.0,>=8.1.8->spacy) (0.0.4)\n",
            "Requirement already satisfied: click<9.0.0,>=7.1.1 in /usr/local/lib/python3.10/dist-packages (from typer<0.8.0,>=0.3.0->spacy) (8.1.3)\n",
            "Requirement already satisfied: MarkupSafe>=2.0 in /usr/local/lib/python3.10/dist-packages (from jinja2->spacy) (2.1.2)\n",
            "2023-04-28 09:09:05.072133: W tensorflow/compiler/tf2tensorrt/utils/py_utils.cc:38] TF-TRT Warning: Could not find TensorRT\n",
            "Looking in indexes: https://pypi.org/simple, https://us-python.pkg.dev/colab-wheels/public/simple/\n",
            "Collecting zh-core-web-lg==3.5.0\n",
            "  Downloading https://github.com/explosion/spacy-models/releases/download/zh_core_web_lg-3.5.0/zh_core_web_lg-3.5.0-py3-none-any.whl (603.0 MB)\n",
            "\u001b[2K     \u001b[90m━━━━━━━━━━━━━━━━━━━━━━━━━━━━━━━━━━━━━━━\u001b[0m \u001b[32m603.0/603.0 MB\u001b[0m \u001b[31m1.7 MB/s\u001b[0m eta \u001b[36m0:00:00\u001b[0m\n",
            "\u001b[?25hRequirement already satisfied: spacy-pkuseg<0.1.0,>=0.0.27 in /usr/local/lib/python3.10/dist-packages (from zh-core-web-lg==3.5.0) (0.0.32)\n",
            "Requirement already satisfied: spacy<3.6.0,>=3.5.0 in /usr/local/lib/python3.10/dist-packages (from zh-core-web-lg==3.5.0) (3.5.2)\n",
            "Requirement already satisfied: langcodes<4.0.0,>=3.2.0 in /usr/local/lib/python3.10/dist-packages (from spacy<3.6.0,>=3.5.0->zh-core-web-lg==3.5.0) (3.3.0)\n",
            "Requirement already satisfied: tqdm<5.0.0,>=4.38.0 in /usr/local/lib/python3.10/dist-packages (from spacy<3.6.0,>=3.5.0->zh-core-web-lg==3.5.0) (4.65.0)\n",
            "Requirement already satisfied: pydantic!=1.8,!=1.8.1,<1.11.0,>=1.7.4 in /usr/local/lib/python3.10/dist-packages (from spacy<3.6.0,>=3.5.0->zh-core-web-lg==3.5.0) (1.10.7)\n",
            "Requirement already satisfied: spacy-legacy<3.1.0,>=3.0.11 in /usr/local/lib/python3.10/dist-packages (from spacy<3.6.0,>=3.5.0->zh-core-web-lg==3.5.0) (3.0.12)\n",
            "Requirement already satisfied: preshed<3.1.0,>=3.0.2 in /usr/local/lib/python3.10/dist-packages (from spacy<3.6.0,>=3.5.0->zh-core-web-lg==3.5.0) (3.0.8)\n",
            "Requirement already satisfied: jinja2 in /usr/local/lib/python3.10/dist-packages (from spacy<3.6.0,>=3.5.0->zh-core-web-lg==3.5.0) (3.1.2)\n",
            "Requirement already satisfied: catalogue<2.1.0,>=2.0.6 in /usr/local/lib/python3.10/dist-packages (from spacy<3.6.0,>=3.5.0->zh-core-web-lg==3.5.0) (2.0.8)\n",
            "Requirement already satisfied: numpy>=1.15.0 in /usr/local/lib/python3.10/dist-packages (from spacy<3.6.0,>=3.5.0->zh-core-web-lg==3.5.0) (1.22.4)\n",
            "Requirement already satisfied: pathy>=0.10.0 in /usr/local/lib/python3.10/dist-packages (from spacy<3.6.0,>=3.5.0->zh-core-web-lg==3.5.0) (0.10.1)\n",
            "Requirement already satisfied: typer<0.8.0,>=0.3.0 in /usr/local/lib/python3.10/dist-packages (from spacy<3.6.0,>=3.5.0->zh-core-web-lg==3.5.0) (0.7.0)\n",
            "Requirement already satisfied: spacy-loggers<2.0.0,>=1.0.0 in /usr/local/lib/python3.10/dist-packages (from spacy<3.6.0,>=3.5.0->zh-core-web-lg==3.5.0) (1.0.4)\n",
            "Requirement already satisfied: wasabi<1.2.0,>=0.9.1 in /usr/local/lib/python3.10/dist-packages (from spacy<3.6.0,>=3.5.0->zh-core-web-lg==3.5.0) (1.1.1)\n",
            "Requirement already satisfied: packaging>=20.0 in /usr/local/lib/python3.10/dist-packages (from spacy<3.6.0,>=3.5.0->zh-core-web-lg==3.5.0) (23.1)\n",
            "Requirement already satisfied: setuptools in /usr/local/lib/python3.10/dist-packages (from spacy<3.6.0,>=3.5.0->zh-core-web-lg==3.5.0) (67.7.2)\n",
            "Requirement already satisfied: smart-open<7.0.0,>=5.2.1 in /usr/local/lib/python3.10/dist-packages (from spacy<3.6.0,>=3.5.0->zh-core-web-lg==3.5.0) (6.3.0)\n",
            "Requirement already satisfied: cymem<2.1.0,>=2.0.2 in /usr/local/lib/python3.10/dist-packages (from spacy<3.6.0,>=3.5.0->zh-core-web-lg==3.5.0) (2.0.7)\n",
            "Requirement already satisfied: murmurhash<1.1.0,>=0.28.0 in /usr/local/lib/python3.10/dist-packages (from spacy<3.6.0,>=3.5.0->zh-core-web-lg==3.5.0) (1.0.9)\n",
            "Requirement already satisfied: srsly<3.0.0,>=2.4.3 in /usr/local/lib/python3.10/dist-packages (from spacy<3.6.0,>=3.5.0->zh-core-web-lg==3.5.0) (2.4.6)\n",
            "Requirement already satisfied: requests<3.0.0,>=2.13.0 in /usr/local/lib/python3.10/dist-packages (from spacy<3.6.0,>=3.5.0->zh-core-web-lg==3.5.0) (2.27.1)\n",
            "Requirement already satisfied: thinc<8.2.0,>=8.1.8 in /usr/local/lib/python3.10/dist-packages (from spacy<3.6.0,>=3.5.0->zh-core-web-lg==3.5.0) (8.1.9)\n",
            "Requirement already satisfied: typing-extensions>=4.2.0 in /usr/local/lib/python3.10/dist-packages (from pydantic!=1.8,!=1.8.1,<1.11.0,>=1.7.4->spacy<3.6.0,>=3.5.0->zh-core-web-lg==3.5.0) (4.5.0)\n",
            "Requirement already satisfied: urllib3<1.27,>=1.21.1 in /usr/local/lib/python3.10/dist-packages (from requests<3.0.0,>=2.13.0->spacy<3.6.0,>=3.5.0->zh-core-web-lg==3.5.0) (1.26.15)\n",
            "Requirement already satisfied: idna<4,>=2.5 in /usr/local/lib/python3.10/dist-packages (from requests<3.0.0,>=2.13.0->spacy<3.6.0,>=3.5.0->zh-core-web-lg==3.5.0) (3.4)\n",
            "Requirement already satisfied: charset-normalizer~=2.0.0 in /usr/local/lib/python3.10/dist-packages (from requests<3.0.0,>=2.13.0->spacy<3.6.0,>=3.5.0->zh-core-web-lg==3.5.0) (2.0.12)\n",
            "Requirement already satisfied: certifi>=2017.4.17 in /usr/local/lib/python3.10/dist-packages (from requests<3.0.0,>=2.13.0->spacy<3.6.0,>=3.5.0->zh-core-web-lg==3.5.0) (2022.12.7)\n",
            "Requirement already satisfied: confection<1.0.0,>=0.0.1 in /usr/local/lib/python3.10/dist-packages (from thinc<8.2.0,>=8.1.8->spacy<3.6.0,>=3.5.0->zh-core-web-lg==3.5.0) (0.0.4)\n",
            "Requirement already satisfied: blis<0.8.0,>=0.7.8 in /usr/local/lib/python3.10/dist-packages (from thinc<8.2.0,>=8.1.8->spacy<3.6.0,>=3.5.0->zh-core-web-lg==3.5.0) (0.7.9)\n",
            "Requirement already satisfied: click<9.0.0,>=7.1.1 in /usr/local/lib/python3.10/dist-packages (from typer<0.8.0,>=0.3.0->spacy<3.6.0,>=3.5.0->zh-core-web-lg==3.5.0) (8.1.3)\n",
            "Requirement already satisfied: MarkupSafe>=2.0 in /usr/local/lib/python3.10/dist-packages (from jinja2->spacy<3.6.0,>=3.5.0->zh-core-web-lg==3.5.0) (2.1.2)\n",
            "Installing collected packages: zh-core-web-lg\n",
            "Successfully installed zh-core-web-lg-3.5.0\n",
            "\u001b[38;5;2m✔ Download and installation successful\u001b[0m\n",
            "You can now load the package via spacy.load('zh_core_web_lg')\n"
          ]
        }
      ],
      "source": [
        "# 安裝spacy\n",
        "%pip install spacy\n",
        "\n",
        "# 下載Transfromer技術的中文語言模型\n",
        "!python -m spacy download zh_core_web_trf"
      ]
    },
    {
      "cell_type": "markdown",
      "metadata": {
        "id": "9sIe_JDOgXPp"
      },
      "source": [
        "## 載入模型並解析"
      ]
    },
    {
      "cell_type": "code",
      "execution_count": 65,
      "metadata": {
        "id": "4FGn5yqKgXPp"
      },
      "outputs": [],
      "source": [
        "import spacy\n",
        "\n",
        "# 載入模型\n",
        "nlp_zh = spacy.load('zh_core_web_trf')\n",
        "\n",
        "# 對中文語句進行解析\n",
        "doc = nlp_zh('台灣是一個位於亞洲東部的島嶼國家。')"
      ]
    },
    {
      "cell_type": "markdown",
      "metadata": {
        "id": "bTzaZGAkgXPp"
      },
      "source": [
        "## NER實體識別\n",
        "\n",
        "我們可以看到實體僅被識別出「台灣」、「亞洲」， 但我們更希望「東部」跟「國家」也可以被識別出來， 那麼可以怎麼做呢？\n"
      ]
    },
    {
      "cell_type": "code",
      "execution_count": 66,
      "metadata": {
        "colab": {
          "base_uri": "https://localhost:8080/",
          "height": 52
        },
        "id": "wHtNS0L9gXPp",
        "outputId": "bf902dea-8944-4e25-e3e1-ec7cacea778b"
      },
      "outputs": [
        {
          "output_type": "display_data",
          "data": {
            "text/plain": [
              "<IPython.core.display.HTML object>"
            ],
            "text/html": [
              "<span class=\"tex2jax_ignore\"><div class=\"entities\" style=\"line-height: 2.5; direction: ltr\">\n",
              "<mark class=\"entity\" style=\"background: #feca74; padding: 0.45em 0.6em; margin: 0 0.25em; line-height: 1; border-radius: 0.35em;\">\n",
              "    台灣\n",
              "    <span style=\"font-size: 0.8em; font-weight: bold; line-height: 1; border-radius: 0.35em; vertical-align: middle; margin-left: 0.5rem\">GPE</span>\n",
              "</mark>\n",
              "是一個位於\n",
              "<mark class=\"entity\" style=\"background: #ff9561; padding: 0.45em 0.6em; margin: 0 0.25em; line-height: 1; border-radius: 0.35em;\">\n",
              "    亞洲\n",
              "    <span style=\"font-size: 0.8em; font-weight: bold; line-height: 1; border-radius: 0.35em; vertical-align: middle; margin-left: 0.5rem\">LOC</span>\n",
              "</mark>\n",
              "東部的島嶼國家。</div></span>"
            ]
          },
          "metadata": {}
        }
      ],
      "source": [
        "from spacy import displacy\n",
        "     \n",
        "# 台灣是一個位於亞洲東部的島嶼國家。\n",
        "displacy.render(doc, style=\"ent\", jupyter=True)"
      ]
    },
    {
      "cell_type": "markdown",
      "metadata": {
        "id": "7-89eR1LgXPp"
      },
      "source": [
        "## 設計訓練資料\n",
        "\n",
        "假設: 其中「亞洲東部」我們期望實體為「LOC」， 而「國家」為「ORG」。\n",
        "\n",
        "### 小技巧\n",
        "- 利用ChatGPT幫我們列出「東部國家」的一些例句， 如何給予提示(Prompt)，就讓大家創意發揮囉，例如: 請幫我列出5句關於「亞洲東部國家的一些特色」。\n",
        "- 將這些例句藉由「[spacynerannotate](https://agateteam.org/spacynerannotate/)」這套工具幫我快速人工標出實體並轉換成`spaCy`訓練NER的格式， 雖然有點不太好用， 但為了快速Demo我們就將就點使用吧，另一套更好用的工具是「[prodigy](https://prodi.gy/)」，下次再獨立開一個篇章來玩玩這個標注套件。\n",
        "- 將轉換格式後的語句以`train`儲存起來。\n",
        "\n",
        "P.S [spacynerannotate](https://agateteam.org/spacynerannotate/)這套工具轉出來之後，記得要把`entities`欄位拿掉，留下陣列的值，避免新版spaCy格式錯誤。\n",
        "\n",
        "\n",
        "```bash\n",
        "# 錯誤的格式：\n",
        "(\"在亞洲東部國家，教育非常重要，其高水平的教育體系吸引著世界各地的學生前來留學。\",{\"entities\":[(3,5,\"LOC\"),(5,7,\"ORG\")]})\n",
        "\n",
        "# 正確的格式：\n",
        "(\"在亞洲東部國家，教育非常重要，其高水平的教育體系吸引著世界各地的學生前來留學。\",[(3,5,\"LOC\"),(5,7,\"ORG\")])\n",
        "\n",
        "```"
      ]
    },
    {
      "cell_type": "code",
      "execution_count": 86,
      "metadata": {
        "id": "zFD3-ogfgXPq"
      },
      "outputs": [],
      "source": [
        "training_data = [\n",
        "    (\"台灣的風景都非常美麗\",[(0,2,\"GPE\")]),\n",
        "    (\"亞洲東部國家的一些特色包括擁有豐富多彩的文化遺產和傳統習俗。\",[(0,4,\"LOC\"),(4,6,\"ORG\")]),\n",
        "    (\"在亞洲東部國家，食品文化有著獨特的地位，其美食吸引著眾多遊客前來品嚐。\",[(1,5,\"LOC\"),(5,7,\"ORG\")]),\n",
        "    (\"亞洲東部國家的經濟以製造業和出口為主，是全球經濟中的關鍵角色。\",[(0,4,\"LOC\"),(4,6,\"ORG\")]),\n",
        "]"
      ]
    },
    {
      "cell_type": "markdown",
      "metadata": {
        "id": "zh2LOUMvgXPq"
      },
      "source": [
        "## 轉換成spaCy的格式\n",
        "\n",
        "請參考官方文件： [https://spacy.io/usage/training#training-data](https://spacy.io/usage/training#training-data)\n",
        "\n",
        "以下的程式碼僅進行訓練集(train.spacy)的製作，開發集(dev.spacy)就得自行依樣畫葫蘆做一份，以便後續的訓練過程能夠順利完成。\n",
        "\n",
        "當然我們也可以在後續的參數配置上將訓練集與開發集設定為同一份，雖然結果會造成自我感覺良好，但這邊只是概念的展示，就不多加著墨了。\n",
        "\n"
      ]
    },
    {
      "cell_type": "code",
      "execution_count": 88,
      "metadata": {
        "colab": {
          "base_uri": "https://localhost:8080/"
        },
        "id": "2dA_7ySqgXPq",
        "outputId": "8941f53d-51bd-4596-830f-0ab7398905ab"
      },
      "outputs": [
        {
          "output_type": "stream",
          "name": "stderr",
          "text": [
            "100%|██████████| 4/4 [00:00<00:00, 1170.69it/s]\n"
          ]
        }
      ],
      "source": [
        "import spacy\n",
        "from spacy.tokens import DocBin\n",
        "from tqdm import tqdm\n",
        "\n",
        "nlp = spacy.blank(\"zh\")\n",
        "\n",
        "# the DocBin will store the example documents\n",
        "db = DocBin()\n",
        "for text, annotations in tqdm(training_data):\n",
        "    _doc = nlp(text)\n",
        "    ents = []\n",
        "    for start, end, label in annotations:\n",
        "        span = _doc.char_span(start, end, label=label)\n",
        "        ents.append(span)\n",
        "    _doc.ents = ents\n",
        "    db.add(_doc)\n",
        "db.to_disk(\"./train.spacy\")"
      ]
    },
    {
      "cell_type": "markdown",
      "source": [
        "## 配置訓練檔\n",
        "\n",
        "我們先從官方勾選需要配置的訓練方式： \n",
        "\n",
        "P.S 這邊記得將`vectors=\"zh_core_web_lg\"`改成`vectors=\"zh_core_web_trf\"`\n",
        "\n",
        "\n",
        "![config.png](data:image/png;base64,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)\n",
        "\n"
      ],
      "metadata": {
        "id": "WCd0DhUgwMDE"
      }
    },
    {
      "cell_type": "markdown",
      "source": [
        "## 填充完整的配置\n",
        "\n",
        "我們使用`spacy init`來進行填充。"
      ],
      "metadata": {
        "id": "xWcuVsfBu_Ds"
      }
    },
    {
      "cell_type": "code",
      "source": [
        "!python -m spacy init fill-config base_config.cfg config.cfg"
      ],
      "metadata": {
        "colab": {
          "base_uri": "https://localhost:8080/"
        },
        "id": "jc3f0_HQw50N",
        "outputId": "8fd0be67-0545-4524-bfae-6214a5df8cde"
      },
      "execution_count": 77,
      "outputs": [
        {
          "output_type": "stream",
          "name": "stdout",
          "text": [
            "2023-04-28 09:40:39.981998: W tensorflow/compiler/tf2tensorrt/utils/py_utils.cc:38] TF-TRT Warning: Could not find TensorRT\n",
            "\u001b[38;5;2m✔ Auto-filled config with all values\u001b[0m\n",
            "\u001b[38;5;2m✔ Saved config\u001b[0m\n",
            "config.cfg\n",
            "You can now add your data and train your pipeline:\n",
            "python -m spacy train config.cfg --paths.train ./train.spacy --paths.dev ./dev.spacy\n"
          ]
        }
      ]
    },
    {
      "cell_type": "markdown",
      "source": [
        "## 進行訓練"
      ],
      "metadata": {
        "id": "5g4Q7YOzxEPM"
      }
    },
    {
      "cell_type": "code",
      "source": [
        "!python -m spacy train config.cfg --output ./output --paths.train ./train.spacy --paths.dev ./train.spacy"
      ],
      "metadata": {
        "colab": {
          "base_uri": "https://localhost:8080/"
        },
        "id": "NqBtlMmixGCc",
        "outputId": "ab9f15f4-0887-4206-8fdf-c04011d737f2"
      },
      "execution_count": 89,
      "outputs": [
        {
          "output_type": "stream",
          "name": "stdout",
          "text": [
            "2023-04-28 09:58:46.670501: W tensorflow/compiler/tf2tensorrt/utils/py_utils.cc:38] TF-TRT Warning: Could not find TensorRT\n",
            "\u001b[38;5;4mℹ Saving to output directory: output\u001b[0m\n",
            "\u001b[38;5;4mℹ Using CPU\u001b[0m\n",
            "\u001b[1m\n",
            "=========================== Initializing pipeline ===========================\u001b[0m\n",
            "[2023-04-28 09:58:49,641] [INFO] Set up nlp object from config\n",
            "[2023-04-28 09:58:49,664] [INFO] Pipeline: ['tok2vec', 'ner']\n",
            "[2023-04-28 09:58:49,669] [INFO] Created vocabulary\n",
            "[2023-04-28 09:58:57,993] [WARNING] [W112] The model specified to use for initial vectors (zh_core_web_trf) has no vectors. This is almost certainly a mistake.\n",
            "[2023-04-28 09:58:58,169] [INFO] Added vectors: zh_core_web_trf\n",
            "[2023-04-28 09:58:58,173] [INFO] Finished initializing nlp object\n",
            "[2023-04-28 09:58:58,555] [INFO] Initialized pipeline components: ['tok2vec', 'ner']\n",
            "\u001b[38;5;2m✔ Initialized pipeline\u001b[0m\n",
            "\u001b[1m\n",
            "============================= Training pipeline =============================\u001b[0m\n",
            "\u001b[38;5;4mℹ Pipeline: ['tok2vec', 'ner']\u001b[0m\n",
            "\u001b[38;5;4mℹ Initial learn rate: 0.001\u001b[0m\n",
            "E    #       LOSS TOK2VEC  LOSS NER  ENTS_F  ENTS_P  ENTS_R  SCORE \n",
            "---  ------  ------------  --------  ------  ------  ------  ------\n",
            "  0       0          0.00     53.93    0.00    0.00    0.00    0.00\n",
            "200     200         34.62   1429.87  100.00  100.00  100.00    1.00\n",
            "400     400          0.00      0.00  100.00  100.00  100.00    1.00\n",
            "600     600          0.00      0.00  100.00  100.00  100.00    1.00\n",
            "800     800          0.00      0.00  100.00  100.00  100.00    1.00\n",
            "1000    1000          0.00      0.00  100.00  100.00  100.00    1.00\n",
            "1200    1200          0.00      0.00  100.00  100.00  100.00    1.00\n",
            "1400    1400          0.00      0.00  100.00  100.00  100.00    1.00\n",
            "1600    1600          0.00      0.00  100.00  100.00  100.00    1.00\n",
            "1800    1800          0.00      0.00  100.00  100.00  100.00    1.00\n",
            "\u001b[38;5;2m✔ Saved pipeline to output directory\u001b[0m\n",
            "output/model-last\n"
          ]
        }
      ]
    },
    {
      "cell_type": "markdown",
      "source": [
        "## 載入訓練完的模型\n",
        "\n",
        "這邊就載入最好的模型來看看吧"
      ],
      "metadata": {
        "id": "85UoqMBwx46n"
      }
    },
    {
      "cell_type": "code",
      "source": [
        "best_model = spacy.load(r\"./output/model-last\") #load the best model"
      ],
      "metadata": {
        "id": "tXpUXPgY0ozU"
      },
      "execution_count": 90,
      "outputs": []
    },
    {
      "cell_type": "markdown",
      "source": [
        "## 重新進行NER辨識\n",
        "\n",
        "結果如我們預期，分別將「台灣」、「亞洲東部」、「國家」這些實體給標示出來。\n",
        "\n",
        "但目前是作弊方式，小資料量相似語句進行訓練當然能夠順利辨識，真實的標注方式可是很多狀況的，相似詞語標注不同的實體時，這些模糊資料如何訓練出較為精準的實體，就是NER的真正精髓所在。"
      ],
      "metadata": {
        "id": "DwnVIgHl0oll"
      }
    },
    {
      "cell_type": "code",
      "source": [
        "from spacy import displacy\n",
        "\n",
        "new_doc = best_model(\"台灣是一個位於亞洲東部的島嶼國家。\")\n",
        "\n",
        "\n",
        "# 台灣是一個位於亞洲東部的島嶼國家。\n",
        "displacy.render(new_doc, style=\"ent\", jupyter=True)"
      ],
      "metadata": {
        "colab": {
          "base_uri": "https://localhost:8080/",
          "height": 52
        },
        "id": "HyT3efnV0-PV",
        "outputId": "dfbd6384-9ebd-4475-bb6f-53e867d2bddd"
      },
      "execution_count": 91,
      "outputs": [
        {
          "output_type": "display_data",
          "data": {
            "text/plain": [
              "<IPython.core.display.HTML object>"
            ],
            "text/html": [
              "<span class=\"tex2jax_ignore\"><div class=\"entities\" style=\"line-height: 2.5; direction: ltr\">\n",
              "<mark class=\"entity\" style=\"background: #feca74; padding: 0.45em 0.6em; margin: 0 0.25em; line-height: 1; border-radius: 0.35em;\">\n",
              "    台灣\n",
              "    <span style=\"font-size: 0.8em; font-weight: bold; line-height: 1; border-radius: 0.35em; vertical-align: middle; margin-left: 0.5rem\">GPE</span>\n",
              "</mark>\n",
              "是一個位於\n",
              "<mark class=\"entity\" style=\"background: #ff9561; padding: 0.45em 0.6em; margin: 0 0.25em; line-height: 1; border-radius: 0.35em;\">\n",
              "    亞洲東部\n",
              "    <span style=\"font-size: 0.8em; font-weight: bold; line-height: 1; border-radius: 0.35em; vertical-align: middle; margin-left: 0.5rem\">LOC</span>\n",
              "</mark>\n",
              "的島嶼\n",
              "<mark class=\"entity\" style=\"background: #7aecec; padding: 0.45em 0.6em; margin: 0 0.25em; line-height: 1; border-radius: 0.35em;\">\n",
              "    國家\n",
              "    <span style=\"font-size: 0.8em; font-weight: bold; line-height: 1; border-radius: 0.35em; vertical-align: middle; margin-left: 0.5rem\">ORG</span>\n",
              "</mark>\n",
              "。</div></span>"
            ]
          },
          "metadata": {}
        }
      ]
    },
    {
      "cell_type": "markdown",
      "source": [
        "## 結語\n",
        "這邊我們只是示範如何運用`spaCy`進行NER的模型訓練，實際上的訓練工法是有一套理論跟邏輯存在的，絕非我們範例中幾句例句就能夠標出準確的NER標籤，下次將嘗試介紹NER的訓練語句該如何設計，這樣一來才能真正的結合實務與理論，完成一個真正可用的系統。"
      ],
      "metadata": {
        "id": "7BIgAf2FM5S1"
      }
    }
  ],
  "metadata": {
    "kernelspec": {
      "display_name": "base",
      "language": "python",
      "name": "python3"
    },
    "language_info": {
      "codemirror_mode": {
        "name": "ipython",
        "version": 3
      },
      "file_extension": ".py",
      "mimetype": "text/x-python",
      "name": "python",
      "nbconvert_exporter": "python",
      "pygments_lexer": "ipython3",
      "version": "3.10.10"
    },
    "orig_nbformat": 4,
    "colab": {
      "provenance": [],
      "include_colab_link": true
    }
  },
  "nbformat": 4,
  "nbformat_minor": 0
}