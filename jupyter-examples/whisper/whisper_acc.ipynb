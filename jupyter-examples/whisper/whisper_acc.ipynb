{
  "nbformat": 4,
  "nbformat_minor": 0,
  "metadata": {
    "colab": {
      "provenance": [],
      "authorship_tag": "ABX9TyM0ojiX2PjAibo8yed63WA3",
      "include_colab_link": true
    },
    "kernelspec": {
      "name": "python3",
      "display_name": "Python 3"
    },
    "language_info": {
      "name": "python"
    }
  },
  "cells": [
    {
      "cell_type": "markdown",
      "metadata": {
        "id": "view-in-github",
        "colab_type": "text"
      },
      "source": [
        "<a href=\"https://colab.research.google.com/github/weihanchen/google-colab-python-learn/blob/main/jupyter-examples/whisper/whisper_acc.ipynb\" target=\"_parent\"><img src=\"https://colab.research.google.com/assets/colab-badge.svg\" alt=\"Open In Colab\"/></a>"
      ]
    },
    {
      "cell_type": "markdown",
      "source": [
        "# 【語音辨識 - Whisper】 準確與否需要有一把 📏尺來衡量\n",
        "\n",
        "\n",
        "前面我們介紹了幾個關於Whisper的基本概念，這裡附上 [🚀傳送門](https://vocus.cc/article/644526c8fd89780001ffdd9f) ，歡迎好好閱讀一番，但我們除了學會如何用語音辨識的工具之外，「準確率」對我們來說也是一個非常重要的一環，但我們究竟應該要如何評估所謂的準確率呢？ 不知道沒關係，當您看完這個篇章就能夠學會如何計算文字的「字元錯誤率」、「字詞錯誤率」...，非常值得您細細品嘗與學習，就讓我們往下一步步的完成評估準確率的程序吧！\n",
        "\n",
        "這次的評估工具我們會使用jiwer這一套來進行說明，它支援了多種的計算方式，包括： WER、CER、MER...等，那這些計算方式各有什麼不同呢？ 就讓我們繼續看下去吧！"
      ],
      "metadata": {
        "id": "fV8FSRypxHEz"
      }
    },
    {
      "cell_type": "markdown",
      "source": [
        "## 安裝套件"
      ],
      "metadata": {
        "id": "B_-Oe4ksyEQK"
      }
    },
    {
      "cell_type": "code",
      "source": [
        "# 錯誤率計算工具\n",
        "!pip install jiwer\n",
        "\n",
        "# 移除掉與語音辨識套件相同名稱的套件\n",
        "# !pip uninstall whisper\n",
        "\n",
        "# 語音辨識ASR\n",
        "!pip install -U openai-whisper\n",
        "\n",
        "# Hugging Face資料集函式庫\n",
        "!pip install datasets\n",
        "\n",
        "# 斷詞器\n",
        "!pip install jiaba"
      ],
      "metadata": {
        "id": "ASn-9gH_yF2O"
      },
      "execution_count": null,
      "outputs": []
    },
    {
      "cell_type": "markdown",
      "source": [
        "## 有哪些不同的計算方式呢？\n",
        "\n",
        "### 以「詞」為單位進行計算"
      ],
      "metadata": {
        "id": "66EqNCCGxaZq"
      }
    },
    {
      "cell_type": "markdown",
      "source": [
        "我們先來看看詞的計算結果如下："
      ],
      "metadata": {
        "id": "5fgkCn0z4HxT"
      }
    },
    {
      "cell_type": "code",
      "execution_count": null,
      "metadata": {
        "colab": {
          "base_uri": "https://localhost:8080/"
        },
        "id": "vuXnmn-QxDMj",
        "outputId": "61c5625d-2b1b-439d-fc1d-146aa255b971"
      },
      "outputs": [
        {
          "output_type": "stream",
          "name": "stdout",
          "text": [
            "sentence 1\n",
            "REF: 今天 天氣 * 很好 嗎\n",
            "HYP: 今天 天氣 很  好 啊\n",
            "           I  S S\n",
            "\n",
            "number of sentences: 1\n",
            "substitutions=2 deletions=0 insertions=1 hits=2\n",
            "\n",
            "mer=60.00%\n",
            "wil=80.00%\n",
            "wip=20.00%\n",
            "wer=75.00%\n",
            "\n"
          ]
        }
      ],
      "source": [
        "\n",
        "\n",
        "reference = \"今天 天氣 很好 嗎\"\n",
        "hypothesis = \"今天 天氣 很 好 啊\"\n",
        "\n",
        "out = jiwer.process_words(reference, hypothesis)\n",
        "print(jiwer.visualize_alignment(out))"
      ]
    },
    {
      "cell_type": "markdown",
      "source": [
        "#### 詞錯誤率 Word Error Rate(WER)\n",
        "WER是以「詞」為單位進行計算，它用來衡量句子中有多少詞彙需要進行修改才能和正確答案一樣。\n",
        "\n",
        "```bash\n",
        "公式: (S + D + I) / (H + S + D)\n",
        "計算過程: (2 + 0 + 1) / (2 + 2 + 0)\n",
        "3 / 4 ≈ 75%。\n",
        "```\n",
        "\n",
        "💡 既然是以`詞`為單位的話，那麼我們的答案與辨識結果請先進行斷詞(通常用空白隔開)， 標點符號也是考量的因素之一喔。\n",
        "\n",
        "#### 平均錯誤率 Mean Error Rate(MER)\n",
        "這項指標與WER主要差別在於分母的部分尚未將`Insertion`給考量進來計算，因為它衡量的不僅是詞彙層級，而是句子層級，因此會更加全面。\n",
        "\n",
        "```bash\n",
        "公式： (S + D + I) / (H + S + D + I)\n",
        "計算過程： (2 + 0 + 1) / (2 + 2 + 0 + 1)\n",
        "\n",
        "3 / 5 ≈ 60%\n",
        "```\n",
        "\n",
        "#### 詞保留率 Word Information Preservation(WIP)\n",
        "這項指標主要在評估我們的辨識結果究竟有多少比例的字詞是一模一樣完全正確的。\n",
        "\n",
        "```bash\n",
        "num_rf_words = 正確答案字詞數 = 4\n",
        "num_hp_words = 辨識結果字詞數 = 5\n",
        "公式： (H / num_rf_words) * (H / num_hp_words)\n",
        "計算過程: (2 / 4) * (2 / 5)\n",
        "0.5 * 0.4 ≈ 20%\n",
        "```\n",
        "#### 詞漏失率 Word Information Lost(WIL)\n",
        "既然有詞的保留率，那麼相反的就是漏失率，因此上述的結果得出之後，用1減去保留率就是漏失率，可以粗略的評估總共漏失了多少比率。\n",
        "```bash\n",
        "公式: 1 - wip\n",
        "1 - 0.2 ≈ 80%\n",
        "```"
      ],
      "metadata": {
        "id": "sCtu_3ZAhdgk"
      }
    },
    {
      "cell_type": "markdown",
      "source": [
        "## 以「字元」為單位進行計算"
      ],
      "metadata": {
        "id": "B_tecDPWPnwT"
      }
    },
    {
      "cell_type": "markdown",
      "source": [
        "### 字元錯誤率 Character Error Rate(CER)\n",
        "CER是以「字元」為單位進行計算，底下的例子以「字元」為單位會發現有1個substitution，因此總共7個字元錯了1個等於：\n",
        "\n",
        "```\n",
        "1 / 7 = 14.28%\n",
        "```\n",
        "\n",
        "💡 既然是以`字元`為單位的話，那麼我們的答案與辨識結果請將空白給去除， 才不會也被計算進去喔， 甚至標點符號...等都是考量的因素之一。"
      ],
      "metadata": {
        "id": "I18ZX5_fxfRD"
      }
    },
    {
      "cell_type": "code",
      "source": [
        "import jiwer\n",
        "\n",
        "reference = \"今天天氣很好嗎\"\n",
        "hypothesis = \"今天天氣很好啊\"\n",
        "\n",
        "output = jiwer.process_characters(reference, hypothesis)\n",
        "print(jiwer.visualize_alignment(output))"
      ],
      "metadata": {
        "colab": {
          "base_uri": "https://localhost:8080/"
        },
        "id": "qGwyBHS0iAMo",
        "outputId": "fb080d10-977e-454b-b83a-7e0c2088653f"
      },
      "execution_count": null,
      "outputs": [
        {
          "output_type": "stream",
          "name": "stdout",
          "text": [
            "sentence 1\n",
            "REF: 今天天氣很好嗎\n",
            "HYP: 今天天氣很好啊\n",
            "           S\n",
            "\n",
            "number of sentences: 1\n",
            "substitutions=1 deletions=0 insertions=0 hits=6\n",
            "\n",
            "cer=14.29%\n",
            "\n"
          ]
        }
      ]
    },
    {
      "cell_type": "markdown",
      "source": [
        "## 動動手使用Whisper語音辨識來計算一下正確率吧\n",
        "\n",
        "首先我們先從Hugging Face找尋Common Voice的音檔：\n",
        "\n",
        "https://huggingface.co/datasets/common_voice/viewer/zh-TW/train\n",
        "\n",
        "\n",
        "### 接著我們使用Hugging Face的Datasets函式庫來進行操作\n",
        "\n",
        "關於Datasets是什麼？ 歡迎參考：「[【Hugging Face】Ep.3 前往Datasets掏金趣](https://vocus.cc/article/64a2c62afd897800018a8185)」。\n",
        "\n",
        "這邊會取測試集的第一筆做為我們的參考答案製作來源。"
      ],
      "metadata": {
        "id": "92sgCnc1d8ph"
      }
    },
    {
      "cell_type": "code",
      "source": [
        "from datasets import load_dataset\n",
        "\n",
        "# 載入中文的資料集\n",
        "ds = load_dataset(\"common_voice\", name='zh-TW', split='test')\n",
        "\n",
        "# 取第一筆做為本次的參考答案資料集\n",
        "ref_data = ds[0]\n",
        "\n",
        "ref_data"
      ],
      "metadata": {
        "colab": {
          "base_uri": "https://localhost:8080/"
        },
        "id": "94BsNJ6rdxHj",
        "outputId": "9b1d5ad6-2fcd-43d7-a723-1da2099df1ee"
      },
      "execution_count": null,
      "outputs": [
        {
          "output_type": "stream",
          "name": "stderr",
          "text": [
            "/root/.cache/huggingface/modules/datasets_modules/datasets/common_voice/220833898d6a60c50f621126e51fb22eb2dfe5244392c70dccd8e6e2f055f4bf/common_voice.py:634: FutureWarning: \n",
            "            This version of the Common Voice dataset is deprecated.\n",
            "            You can download the latest one with\n",
            "            >>> load_dataset(\"mozilla-foundation/common_voice_11_0\", \"en\")\n",
            "            \n",
            "  warnings.warn(\n",
            "WARNING:datasets.builder:Found cached dataset common_voice (/root/.cache/huggingface/datasets/common_voice/zh-TW/6.1.0/220833898d6a60c50f621126e51fb22eb2dfe5244392c70dccd8e6e2f055f4bf)\n"
          ]
        },
        {
          "output_type": "execute_result",
          "data": {
            "text/plain": [
              "{'client_id': '7fbf85e97244d202891c843cad48ee736b12cf6ceddc165ddd821804af13e01852da09faf0f3b647a11c1d0fde52b4efa9f71e9852d5acf16776d022d983bae4',\n",
              " 'path': '/root/.cache/huggingface/datasets/downloads/extracted/0cd3800424a383996b39a64547fd7ea9852d200cc41113eebeb6f790cf74e9ca/cv-corpus-6.1-2020-12-11/zh-TW/clips/common_voice_zh-TW_17369547.mp3',\n",
              " 'audio': {'path': '/root/.cache/huggingface/datasets/downloads/extracted/0cd3800424a383996b39a64547fd7ea9852d200cc41113eebeb6f790cf74e9ca/cv-corpus-6.1-2020-12-11/zh-TW/clips/common_voice_zh-TW_17369547.mp3',\n",
              "  'array': array([ 0.00000000e+00,  1.77818101e-13,  2.42973935e-13, ...,\n",
              "         -6.08271512e-06,  1.44303194e-05, -3.25221044e-05]),\n",
              "  'sampling_rate': 48000},\n",
              " 'sentence': '兩國總統都沒有直接通過電話',\n",
              " 'up_votes': 3,\n",
              " 'down_votes': 0,\n",
              " 'age': 'thirties',\n",
              " 'gender': 'male',\n",
              " 'accent': '',\n",
              " 'locale': 'zh-TW',\n",
              " 'segment': \"''\"}"
            ]
          },
          "metadata": {},
          "execution_count": 8
        }
      ]
    },
    {
      "cell_type": "markdown",
      "source": [
        "透過上述的操作我們可以得到幾個資訊：\n",
        "- 語句: 並做出行動\n",
        "- 音檔路徑: `/root/.cache/huggingface/datasets/downloads/extracted/0cd3800424a383996b39a64547fd7ea9852d200cc41113eebeb6f790cf74e9ca/cv-corpus-6.1-2020-12-11/zh-TW/clips/common_voice_zh-TW_17370757.mp3`\n",
        "\n",
        "### 製作參考答案文字\n",
        "\n",
        "首先我們對語句的部分進行斷詞，來製作參考答案的文字：\n",
        "\n",
        "```python\n",
        "並 做出 行動\n",
        "```"
      ],
      "metadata": {
        "id": "cgRSulV7gUkj"
      }
    },
    {
      "cell_type": "code",
      "source": [
        "import jieba\n",
        "_reference = ref_data['sentence']\n",
        "\n",
        "reference = ' '.join(jieba.cut(_reference, cut_all=False, HMM=True))\n",
        "\n",
        "reference # 兩國 總統 都 沒 有 直接 通過 電話\n"
      ],
      "metadata": {
        "colab": {
          "base_uri": "https://localhost:8080/",
          "height": 35
        },
        "id": "eWXhBimZgnY0",
        "outputId": "62facc4b-4b3c-4d29-ae3b-c74de35fa81e"
      },
      "execution_count": null,
      "outputs": [
        {
          "output_type": "execute_result",
          "data": {
            "text/plain": [
              "'兩國 總統 都 沒 有 直接 通過 電話'"
            ],
            "application/vnd.google.colaboratory.intrinsic+json": {
              "type": "string"
            }
          },
          "metadata": {},
          "execution_count": 9
        }
      ]
    },
    {
      "cell_type": "markdown",
      "source": [
        "### 接著來進行語音辨識\n",
        "\n",
        "這邊我們使用`base`模型就好"
      ],
      "metadata": {
        "id": "g6ZNckLFiL5C"
      }
    },
    {
      "cell_type": "code",
      "source": [
        "import whisper\n",
        "\n",
        "model = whisper.load_model(\"base\")\n",
        "\n",
        "audio = ref_data['path']\n",
        "\n",
        "result = model.transcribe(audio)\n",
        "\n",
        "result"
      ],
      "metadata": {
        "colab": {
          "base_uri": "https://localhost:8080/"
        },
        "id": "JcITwg3Ckvzb",
        "outputId": "8b5e48aa-3f3b-4243-9806-e11e724bca26"
      },
      "execution_count": null,
      "outputs": [
        {
          "output_type": "stream",
          "name": "stderr",
          "text": [
            "/usr/local/lib/python3.10/dist-packages/whisper/transcribe.py:114: UserWarning: FP16 is not supported on CPU; using FP32 instead\n",
            "  warnings.warn(\"FP16 is not supported on CPU; using FP32 instead\")\n"
          ]
        },
        {
          "output_type": "execute_result",
          "data": {
            "text/plain": [
              "{'text': '兩國總統都沒有直接通過電話。',\n",
              " 'segments': [{'id': 0,\n",
              "   'seek': 0,\n",
              "   'start': 0.0,\n",
              "   'end': 5.0,\n",
              "   'text': '兩國總統都沒有直接通過電話。',\n",
              "   'tokens': [50364,\n",
              "    16313,\n",
              "    8053,\n",
              "    26575,\n",
              "    33725,\n",
              "    7182,\n",
              "    6963,\n",
              "    43297,\n",
              "    19550,\n",
              "    8816,\n",
              "    20545,\n",
              "    11103,\n",
              "    1543,\n",
              "    50614],\n",
              "   'temperature': 0.0,\n",
              "   'avg_logprob': -0.32310527165730796,\n",
              "   'compression_ratio': 0.7924528301886793,\n",
              "   'no_speech_prob': 0.031160296872258186}],\n",
              " 'language': 'zh'}"
            ]
          },
          "metadata": {},
          "execution_count": 15
        }
      ]
    },
    {
      "cell_type": "markdown",
      "source": [
        "### 最終我們透過jiwer計算一下錯誤率\n",
        "\n",
        "正確率怎麼計算呢？ 1 - 錯誤率(WER、WIP、MER...)\n",
        "\n",
        "P.S 看起來幾乎都沒有錯誤，猜測可能是common voice的語料已涵蓋在whisper的模型之中了...。"
      ],
      "metadata": {
        "id": "e1spOsyGoPx6"
      }
    },
    {
      "cell_type": "code",
      "source": [
        "import jiwer\n",
        "hypothesis = result['text']\n",
        "\n",
        "hypothesis = ' '.join(jieba.cut(hypothesis, cut_all=False, HMM=True))\n",
        "\n",
        "out = jiwer.process_words(reference, hypothesis)\n",
        "print(jiwer.visualize_alignment(out))"
      ],
      "metadata": {
        "colab": {
          "base_uri": "https://localhost:8080/"
        },
        "id": "_J7HTHXxobN5",
        "outputId": "aa94f866-05c8-46ad-b834-883f569f390e"
      },
      "execution_count": null,
      "outputs": [
        {
          "output_type": "stream",
          "name": "stdout",
          "text": [
            "sentence 1\n",
            "REF: 兩國 總統 都 沒 有 直接 通過 電話 *\n",
            "HYP: 兩國 總統 都 沒 有 直接 通過 電話 。\n",
            "                          I\n",
            "\n",
            "number of sentences: 1\n",
            "substitutions=0 deletions=0 insertions=1 hits=8\n",
            "\n",
            "mer=11.11%\n",
            "wil=11.11%\n",
            "wip=88.89%\n",
            "wer=12.50%\n",
            "\n"
          ]
        }
      ]
    }
  ]
}