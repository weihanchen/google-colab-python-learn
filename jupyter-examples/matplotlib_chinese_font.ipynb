{
  "nbformat": 4,
  "nbformat_minor": 0,
  "metadata": {
    "colab": {
      "provenance": [],
      "authorship_tag": "ABX9TyOFW3LxiS7GAM2U7Lw34PHj",
      "include_colab_link": true
    },
    "kernelspec": {
      "name": "python3",
      "display_name": "Python 3"
    },
    "language_info": {
      "name": "python"
    }
  },
  "cells": [
    {
      "cell_type": "markdown",
      "metadata": {
        "id": "view-in-github",
        "colab_type": "text"
      },
      "source": [
        "<a href=\"https://colab.research.google.com/github/weihanchen/google-colab-python-toturial/blob/main/jupyter-examples/matplotlib_chinese_font.ipynb\" target=\"_parent\"><img src=\"https://colab.research.google.com/assets/colab-badge.svg\" alt=\"Open In Colab\"/></a>"
      ]
    },
    {
      "cell_type": "markdown",
      "source": [
        "# 載入中文字型\n",
        "- 字型資源：[思源宋體](https://github.com/adobe-fonts/source-han-serif)\n",
        "- family: [official font readme file](https://github.com/adobe-fonts/source-han-serif/raw/release/SourceHanSerifReadMe.pdf)"
      ],
      "metadata": {
        "id": "idmGr4OrFw6R"
      }
    },
    {
      "cell_type": "code",
      "source": [
        "import matplotlib as mpl\n",
        "import matplotlib.font_manager as fm\n",
        "import matplotlib.pyplot as plt\n",
        "\n",
        "# 下載繁體中文字型\n",
        "!wget -O SourceHanSerifTW-VF.ttf https://github.com/adobe-fonts/source-han-serif/raw/release/Variable/TTF/Subset/SourceHanSerifTW-VF.ttf\n",
        "\n",
        "# 加入字型檔\n",
        "fm.fontManager.addfont('SourceHanSerifTW-VF.ttf')\n",
        "\n",
        "# 設定字型\n",
        "mpl.rc('font', family='Source Han Serif TW VF')"
      ],
      "metadata": {
        "id": "HFKeiaE03csj",
        "colab": {
          "base_uri": "https://localhost:8080/"
        },
        "outputId": "51bc6d42-81d1-46fd-a80b-86ddff900c61"
      },
      "execution_count": 24,
      "outputs": [
        {
          "output_type": "stream",
          "name": "stdout",
          "text": [
            "--2022-12-08 14:13:50--  https://github.com/adobe-fonts/source-han-serif/raw/release/Variable/TTF/Subset/SourceHanSerifTW-VF.ttf\n",
            "Resolving github.com (github.com)... 140.82.113.4\n",
            "Connecting to github.com (github.com)|140.82.113.4|:443... connected.\n",
            "HTTP request sent, awaiting response... 302 Found\n",
            "Location: https://raw.githubusercontent.com/adobe-fonts/source-han-serif/release/Variable/TTF/Subset/SourceHanSerifTW-VF.ttf [following]\n",
            "--2022-12-08 14:13:50--  https://raw.githubusercontent.com/adobe-fonts/source-han-serif/release/Variable/TTF/Subset/SourceHanSerifTW-VF.ttf\n",
            "Resolving raw.githubusercontent.com (raw.githubusercontent.com)... 185.199.108.133, 185.199.109.133, 185.199.110.133, ...\n",
            "Connecting to raw.githubusercontent.com (raw.githubusercontent.com)|185.199.108.133|:443... connected.\n",
            "HTTP request sent, awaiting response... 200 OK\n",
            "Length: 16883324 (16M) [application/octet-stream]\n",
            "Saving to: ‘SourceHanSerifTW-VF.ttf’\n",
            "\n",
            "\rSourceHanSerifTW-VF   0%[                    ]       0  --.-KB/s               \rSourceHanSerifTW-VF 100%[===================>]  16.10M  --.-KB/s    in 0.06s   \n",
            "\n",
            "2022-12-08 14:13:50 (275 MB/s) - ‘SourceHanSerifTW-VF.ttf’ saved [16883324/16883324]\n",
            "\n"
          ]
        }
      ]
    },
    {
      "cell_type": "markdown",
      "source": [
        "# 繪製中文\n",
        "- 標籤標示為「中文」。\n",
        "- 進行繪製。"
      ],
      "metadata": {
        "id": "3HJrbTHiGdBf"
      }
    },
    {
      "cell_type": "code",
      "source": [
        "\n",
        "\n",
        "data = [0.2, 0.4, 0.6]\n",
        "\n",
        "# 這裡繪製出中文\n",
        "labels = ['中文']\n",
        "\n",
        "plt.boxplot(data, labels=labels)\n",
        "plt.show()"
      ],
      "metadata": {
        "colab": {
          "base_uri": "https://localhost:8080/",
          "height": 265
        },
        "id": "WyQZfZUy812h",
        "outputId": "78fdc2f5-8fc0-4ada-ab8b-37875d72eb96"
      },
      "execution_count": 25,
      "outputs": [
        {
          "output_type": "display_data",
          "data": {
            "text/plain": [
              "<Figure size 432x288 with 1 Axes>"
            ],
            "image/png": "[encoded data removed]"
          },
          "metadata": {
            "needs_background": "light"
          }
        }
      ]
    }
  ]
}