{
  "nbformat": 4,
  "nbformat_minor": 0,
  "metadata": {
    "colab": {
      "provenance": [],
      "authorship_tag": "ABX9TyPEHiTI2uVfz/JDedd90pA5",
      "include_colab_link": true
    },
    "kernelspec": {
      "name": "python3",
      "display_name": "Python 3"
    },
    "language_info": {
      "name": "python"
    }
  },
  "cells": [
    {
      "cell_type": "markdown",
      "metadata": {
        "id": "view-in-github",
        "colab_type": "text"
      },
      "source": [
        "<a href=\"https://colab.research.google.com/github/weihanchen/google-colab-python-learn/blob/main/jupyter-examples/pytube/pytube_quickstart.ipynb\" target=\"_parent\"><img src=\"https://colab.research.google.com/assets/colab-badge.svg\" alt=\"Open In Colab\"/></a>"
      ]
    },
    {
      "cell_type": "markdown",
      "source": [
        "# 【資料處理神器區 - Pytube系列】 蒐集情報讓數據會說話\n",
        "\n",
        "這次要來介紹「pytube」這套神器， 當我們需要對影音進行統計分析時就需要使用這把利器來破關， 尤其是AI時代的來臨， 我們會需要大量的資料來進行模型的訓練， 而我們總不可能海量的去撈取這些資料， 會非常沒有效率也浪費空間， 因此我們會先進行偵查的任務， 需要派出偵察隊來蒐集youtube的影音資訊再來決策下一步…。\n",
        "\n",
        "而針對youtube影音平台的情境底下， 「pytube」就是偵查隊的最佳武器， 它不僅能夠蒐集基本資訊(長度、熱度、頻道數量、評分…)， 也能夠抓取影片或者音訊， 非常的方便好用。\n",
        "\n",
        "那我們今天就來表演一下這套神器的使用方式， 預計抓取的資訊有音檔長度、發布日期、評分、多少人看過，這些資訊背後都隱藏著驚人的秘密...。"
      ],
      "metadata": {
        "id": "m4EcIHR50uWe"
      }
    },
    {
      "cell_type": "markdown",
      "source": [
        "## 安裝"
      ],
      "metadata": {
        "id": "cRy-Sc6Eyx5C"
      }
    },
    {
      "cell_type": "code",
      "execution_count": null,
      "metadata": {
        "id": "LMC--esLyn02"
      },
      "outputs": [],
      "source": [
        "!pip install pytube"
      ]
    },
    {
      "cell_type": "markdown",
      "source": [
        "## 引入套件庫並設定目標連結\n",
        "\n",
        "ℹ️ 這裡的 `${影片網址}` 請貼上目標的影片連結。\n",
        "\n",
        "這個步驟是基本使用上的第一步， 提供網址讓「pytube」去自動抓取相關資訊， 這一步並沒有實際進行下載， 因此網路傳輸的耗費並不大， 主要用來蒐集情資使用。"
      ],
      "metadata": {
        "id": "YEj3c4mOy-2x"
      }
    },
    {
      "cell_type": "code",
      "source": [
        "from pytube import YouTube\n",
        "\n",
        "yt = YouTube('${影片網址}')"
      ],
      "metadata": {
        "id": "08TQDb12y_Bx"
      },
      "execution_count": null,
      "outputs": []
    },
    {
      "cell_type": "markdown",
      "source": [
        "## 哪些資訊可以偵查？"
      ],
      "metadata": {
        "id": "LGMSpfdO1br5"
      }
    },
    {
      "cell_type": "code",
      "source": [
        "# 標題\n",
        "print(f'標題: {yt.title}')\n",
        "\n",
        "# 作者\n",
        "print(f'作者: {yt.author}')\n",
        "\n",
        "# 頻道識別碼\n",
        "print(f'頻道識別碼: {yt.channel_id}')\n",
        "\n",
        "# 影片的描述\n",
        "print(f'影片的描述: {yt.description}')\n",
        "\n",
        "# 影片的關鍵字\n",
        "print(f'影片的關鍵字: {yt.keywords}')\n",
        "\n",
        "# 影片的長度(秒)\n",
        "print(f'影片的長度: {yt.length} 秒')\n",
        "\n",
        "# 發布日期\n",
        "print(f'發布日期: {yt.publish_date}')\n",
        "\n",
        "# 評分\n",
        "print(f'評分: {yt.rating}')\n",
        "\n",
        "# 多少個人瀏覽過\n",
        "print(f'多少人看過: {yt.views}')"
      ],
      "metadata": {
        "colab": {
          "base_uri": "https://localhost:8080/"
        },
        "id": "df5Xs6Ds1hjd",
        "outputId": "288c68db-4e65-4950-b470-81ce63be5e47"
      },
      "execution_count": null,
      "outputs": [
        {
          "output_type": "stream",
          "name": "stdout",
          "text": [
            "標題: 怎樣買長照險：Q11.投保前要注意什麼？\n",
            "作者: 李柏泉\n",
            "頻道識別碼: UC3NpI8LWYRuJ83aaJRf5-9w\n",
            "影片的描述: None\n",
            "影片的關鍵字: []\n",
            "影片的長度: 416 秒\n",
            "發布日期: 2017-04-16 00:00:00\n",
            "評分: None\n",
            "多少人看過: 10857\n"
          ]
        }
      ]
    },
    {
      "cell_type": "markdown",
      "source": [
        "有了這些資訊我們可以做什麼？ 就讓我列出幾個可能的方向供您思考：\n",
        "\n",
        "- 長度介於多少範圍的影音檔分析。\n",
        "- 瀏覽數量分析。\n",
        "- 評分高低分析。\n",
        "- 日期區間分析。\n",
        "\n",
        "P.S 年份較舊的影片可能缺少關鍵字、評分...等資訊， 畢竟早期也還沒規劃大數據的應用...。"
      ],
      "metadata": {
        "id": "z4pe0nDi8TK2"
      }
    },
    {
      "cell_type": "markdown",
      "source": [
        "## 可以怎麼統計分析？\n",
        "\n",
        "我們可以藉由另一套神器pandas來進行...， 底下提供幾個學習資源包， 可以建立基本概念後配合動手實作加深印象:\n",
        "\n",
        "- [【Google Colab Python系列】 資料處理神器 Pandas 起手式](https://vocus.cc/article/64c90f67fd8978000138d9bc)\n",
        "- [【Google Colab Python系列】 資料處理神器 Pandas 合併之術(join、concat)](https://vocus.cc/article/64ca3fb9fd897800018b230c)\n",
        "- [【Google Colab Python系列】 資料處理神器 Pandas 分割與重組之術(Grouping/Reshaping)](https://vocus.cc/article/64ca6232fd897800018e734a)\n",
        "\n",
        "上面的教學讀完了嗎？ 接下來會教您如何結合pytube + pandas來構建屬於自己的影音分析系統、高品質語料庫爬蟲系統...， 這些實戰我們也會放在會員專屬文章區， 歡迎支持一下付費專欄， 讓我們更有動力分享關於軟體科技的武功心法：\n",
        "\n"
      ],
      "metadata": {
        "id": "NYDr6RrP9CwJ"
      }
    },
    {
      "cell_type": "markdown",
      "source": [
        "## 結語\n",
        "初步認識到pytube的功能之後， 我們就可以統計分析決定目標群， 甚至打造屬於AI訓練的爬蟲系統， 或者結合推薦系統建立個人 + 商業化的影音推播系統...， 非常的靈活， 重點在於我們會不會使用工具， 如何讓工具變成武器， 因此有個領路人可以讓您少走點彎路， 不妨花個銅板費購買一下實戰專欄， 讓您創造出各種創新的應用， 甚至能夠成立公司開發產品。\n",
        "\n",
        "\n",
        "喜歡撰寫文章的你，不妨來了解一下：\n",
        "\n",
        "\n",
        "[Web3.0時代下為創作者、閱讀者打造的專屬共贏平台 — 為什麼要加入？](https://www.potatomedia.co/s/2PmFxsq)\n",
        "\n",
        "\n",
        "歡迎加入一起練習寫作，賺取知識\n"
      ],
      "metadata": {
        "id": "tkn5HyGJBX6E"
      }
    }
  ]
}