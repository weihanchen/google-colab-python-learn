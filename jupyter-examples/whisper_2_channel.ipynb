{
  "cells": [
    {
      "cell_type": "markdown",
      "metadata": {
        "id": "view-in-github",
        "colab_type": "text"
      },
      "source": [
        "<a href=\"https://colab.research.google.com/github/weihanchen/google-colab-python-learn/blob/main/jupyter-examples/whisper_2_channel.ipynb\" target=\"_parent\"><img src=\"https://colab.research.google.com/assets/colab-badge.svg\" alt=\"Open In Colab\"/></a>"
      ]
    },
    {
      "cell_type": "markdown",
      "metadata": {
        "id": "_JRfSAO3KV9S"
      },
      "source": [
        "# 【語音辨識 - Whisper】 雙聲道分離進行辨識\n",
        "\n",
        "假設我們有一段雙聲道的音檔, 正常來說透過[whisper](https://github.com/openai/whisper)進行語音辨識時都是以整段音檔進行辨識,但我們若想將左右聲道分離進行辨識的話就得對音檔進行音訊處理了。\n",
        "\n",
        "怎麼做呢？ 比較簡單的方式就是透過音訊處理工具將音檔進行左右聲道的分離，再獨立的進行辨識即可。\n",
        "\n",
        "這次會將雙聲道音檔透過[pydub](https://github.com/jiaaro/pydub)這套音訊處理工具進行分離，再分別以`numpy.ndarray`的格式傳遞給whisper進行辨識。\n",
        "\n",
        "## 工具安裝\n",
        "- [pytube](https://pytube.io/en/latest/): 下載yt影片並轉成音檔。\n",
        "- [pydub](https://github.com/jiaaro/pydub): 將雙聲道切成左、右聲道。\n",
        "- [openai-whisper](https://github.com/openai/whisper): 語音辨識。"
      ]
    },
    {
      "cell_type": "code",
      "execution_count": 1,
      "metadata": {
        "colab": {
          "base_uri": "https://localhost:8080/"
        },
        "id": "o3B-pgd7KTTB",
        "outputId": "2ac66494-d61a-4765-92d9-31e18eda9e49"
      },
      "outputs": [
        {
          "output_type": "stream",
          "name": "stdout",
          "text": [
            "Looking in indexes: https://pypi.org/simple, https://us-python.pkg.dev/colab-wheels/public/simple/\n",
            "Collecting pytube\n",
            "  Downloading pytube-15.0.0-py3-none-any.whl (57 kB)\n",
            "\u001b[2K     \u001b[90m━━━━━━━━━━━━━━━━━━━━━━━━━━━━━━━━━━━━━━━━\u001b[0m \u001b[32m57.6/57.6 kB\u001b[0m \u001b[31m1.9 MB/s\u001b[0m eta \u001b[36m0:00:00\u001b[0m\n",
            "\u001b[?25hInstalling collected packages: pytube\n",
            "Successfully installed pytube-15.0.0\n",
            "Looking in indexes: https://pypi.org/simple, https://us-python.pkg.dev/colab-wheels/public/simple/\n",
            "Collecting pydub\n",
            "  Downloading pydub-0.25.1-py2.py3-none-any.whl (32 kB)\n",
            "Installing collected packages: pydub\n",
            "Successfully installed pydub-0.25.1\n",
            "Looking in indexes: https://pypi.org/simple, https://us-python.pkg.dev/colab-wheels/public/simple/\n",
            "Collecting openai-whisper\n",
            "  Downloading openai-whisper-20230314.tar.gz (792 kB)\n",
            "\u001b[2K     \u001b[90m━━━━━━━━━━━━━━━━━━━━━━━━━━━━━━━━━━━━━━\u001b[0m \u001b[32m792.9/792.9 kB\u001b[0m \u001b[31m10.1 MB/s\u001b[0m eta \u001b[36m0:00:00\u001b[0m\n",
            "\u001b[?25h  Installing build dependencies ... \u001b[?25l\u001b[?25hdone\n",
            "  Getting requirements to build wheel ... \u001b[?25l\u001b[?25hdone\n",
            "  Preparing metadata (pyproject.toml) ... \u001b[?25l\u001b[?25hdone\n",
            "Collecting tiktoken==0.3.1\n",
            "  Downloading tiktoken-0.3.1-cp310-cp310-manylinux_2_17_x86_64.manylinux2014_x86_64.whl (1.7 MB)\n",
            "\u001b[2K     \u001b[90m━━━━━━━━━━━━━━━━━━━━━━━━━━━━━━━━━━━━━━━━\u001b[0m \u001b[32m1.7/1.7 MB\u001b[0m \u001b[31m58.1 MB/s\u001b[0m eta \u001b[36m0:00:00\u001b[0m\n",
            "\u001b[?25hRequirement already satisfied: numpy in /usr/local/lib/python3.10/dist-packages (from openai-whisper) (1.22.4)\n",
            "Requirement already satisfied: tqdm in /usr/local/lib/python3.10/dist-packages (from openai-whisper) (4.65.0)\n",
            "Requirement already satisfied: triton==2.0.0 in /usr/local/lib/python3.10/dist-packages (from openai-whisper) (2.0.0)\n",
            "Collecting ffmpeg-python==0.2.0\n",
            "  Downloading ffmpeg_python-0.2.0-py3-none-any.whl (25 kB)\n",
            "Requirement already satisfied: numba in /usr/local/lib/python3.10/dist-packages (from openai-whisper) (0.56.4)\n",
            "Requirement already satisfied: torch in /usr/local/lib/python3.10/dist-packages (from openai-whisper) (2.0.0+cu118)\n",
            "Requirement already satisfied: more-itertools in /usr/local/lib/python3.10/dist-packages (from openai-whisper) (9.1.0)\n",
            "Requirement already satisfied: future in /usr/local/lib/python3.10/dist-packages (from ffmpeg-python==0.2.0->openai-whisper) (0.18.3)\n",
            "Requirement already satisfied: regex>=2022.1.18 in /usr/local/lib/python3.10/dist-packages (from tiktoken==0.3.1->openai-whisper) (2022.10.31)\n",
            "Requirement already satisfied: requests>=2.26.0 in /usr/local/lib/python3.10/dist-packages (from tiktoken==0.3.1->openai-whisper) (2.27.1)\n",
            "Requirement already satisfied: cmake in /usr/local/lib/python3.10/dist-packages (from triton==2.0.0->openai-whisper) (3.25.2)\n",
            "Requirement already satisfied: filelock in /usr/local/lib/python3.10/dist-packages (from triton==2.0.0->openai-whisper) (3.12.0)\n",
            "Requirement already satisfied: lit in /usr/local/lib/python3.10/dist-packages (from triton==2.0.0->openai-whisper) (16.0.2)\n",
            "Requirement already satisfied: setuptools in /usr/local/lib/python3.10/dist-packages (from numba->openai-whisper) (67.7.2)\n",
            "Requirement already satisfied: llvmlite<0.40,>=0.39.0dev0 in /usr/local/lib/python3.10/dist-packages (from numba->openai-whisper) (0.39.1)\n",
            "Requirement already satisfied: jinja2 in /usr/local/lib/python3.10/dist-packages (from torch->openai-whisper) (3.1.2)\n",
            "Requirement already satisfied: sympy in /usr/local/lib/python3.10/dist-packages (from torch->openai-whisper) (1.11.1)\n",
            "Requirement already satisfied: typing-extensions in /usr/local/lib/python3.10/dist-packages (from torch->openai-whisper) (4.5.0)\n",
            "Requirement already satisfied: networkx in /usr/local/lib/python3.10/dist-packages (from torch->openai-whisper) (3.1)\n",
            "Requirement already satisfied: charset-normalizer~=2.0.0 in /usr/local/lib/python3.10/dist-packages (from requests>=2.26.0->tiktoken==0.3.1->openai-whisper) (2.0.12)\n",
            "Requirement already satisfied: urllib3<1.27,>=1.21.1 in /usr/local/lib/python3.10/dist-packages (from requests>=2.26.0->tiktoken==0.3.1->openai-whisper) (1.26.15)\n",
            "Requirement already satisfied: idna<4,>=2.5 in /usr/local/lib/python3.10/dist-packages (from requests>=2.26.0->tiktoken==0.3.1->openai-whisper) (3.4)\n",
            "Requirement already satisfied: certifi>=2017.4.17 in /usr/local/lib/python3.10/dist-packages (from requests>=2.26.0->tiktoken==0.3.1->openai-whisper) (2022.12.7)\n",
            "Requirement already satisfied: MarkupSafe>=2.0 in /usr/local/lib/python3.10/dist-packages (from jinja2->torch->openai-whisper) (2.1.2)\n",
            "Requirement already satisfied: mpmath>=0.19 in /usr/local/lib/python3.10/dist-packages (from sympy->torch->openai-whisper) (1.3.0)\n",
            "Building wheels for collected packages: openai-whisper\n",
            "  Building wheel for openai-whisper (pyproject.toml) ... \u001b[?25l\u001b[?25hdone\n",
            "  Created wheel for openai-whisper: filename=openai_whisper-20230314-py3-none-any.whl size=796926 sha256=4c09b834cee57a4eca371cba69db203c227812da90e1e0035796899fb49898d0\n",
            "  Stored in directory: /root/.cache/pip/wheels/b2/13/5f/fe8245f6dc59df505879da4b2129932e342f02a80e6b87f27d\n",
            "Successfully built openai-whisper\n",
            "Installing collected packages: ffmpeg-python, tiktoken, openai-whisper\n",
            "Successfully installed ffmpeg-python-0.2.0 openai-whisper-20230314 tiktoken-0.3.1\n"
          ]
        }
      ],
      "source": [
        "# 下載yt影片並轉成音檔。\n",
        "!pip install pytube\n",
        "\n",
        "# 將雙聲道切成左、右聲道。\n",
        "!pip install pydub\n",
        "\n",
        "# 安裝whisper語音辨識工具\n",
        "!pip install -U openai-whisper"
      ]
    },
    {
      "cell_type": "markdown",
      "metadata": {
        "id": "oW0ZGsRkQfJL"
      },
      "source": [
        "### 將YT影片以Stream方式載到Memory\n",
        "\n",
        "這邊會需要開啟google驗證網頁並將認證碼輸入才能順利下載音檔(主要也是避免無限制的下載導致負擔吧)。\n",
        "\n",
        "1. 遵照指示打開裝置驗證網頁。\n",
        "2. 輸入提示的驗證碼。\n",
        "3. 登入驗證完畢後，在以下輸入框填上驗證碼即完成驗證。"
      ]
    },
    {
      "cell_type": "code",
      "execution_count": 19,
      "metadata": {
        "colab": {
          "base_uri": "https://localhost:8080/"
        },
        "id": "kUEjyOmKQrAy",
        "outputId": "accfde7d-eff5-411b-cce2-55052cc15568"
      },
      "outputs": [
        {
          "output_type": "execute_result",
          "data": {
            "text/plain": [
              "0"
            ]
          },
          "metadata": {},
          "execution_count": 19
        }
      ],
      "source": [
        "import io\n",
        "from pytube import YouTube\n",
        "from pydub import AudioSegment\n",
        "\n",
        "\n",
        "# yt音訊流\n",
        "yt = YouTube('https://www.youtube.com/watch?v=${請自行替換音檔id}', use_oauth=True, allow_oauth_cache=True)\n",
        "stream = yt.streams.filter(only_audio=True).first()\n",
        "\n",
        "buffer = io.BytesIO()\n",
        "audio_stream = stream.stream_to_buffer(buffer)\n",
        "buffer.seek(0)"
      ]
    },
    {
      "cell_type": "markdown",
      "source": [
        "### 設計音訊解碼函式\n",
        "- 預設為雙聲道layout。\n",
        "- 重設取樣率,whisper預設以16000進行辨識。\n"
      ],
      "metadata": {
        "id": "9fBtIIsfm-Wn"
      }
    },
    {
      "cell_type": "code",
      "source": [
        "import io\n",
        "from typing import BinaryIO, Tuple, Union\n",
        "\n",
        "import numpy as np\n",
        "from pydub.utils import get_array_type\n",
        "\n",
        "\n",
        "def decode_audio(\n",
        "    input_file: Union[str, BinaryIO],\n",
        "    sampling_rate: int = 16000,\n",
        ") -> Tuple[np.ndarray, np.ndarray]:\n",
        "    \"\"\"Decodes the audio.\n",
        "\n",
        "    Args:\n",
        "      input_file: Path to the input file or a file-like object.\n",
        "      sampling_rate: Resample the audio to this sample rate.\n",
        "\n",
        "    Returns:\n",
        "      A float32 Numpy array.\n",
        "\n",
        "      returns a 2-tuple with the separated left and right channels.\n",
        "    \"\"\"\n",
        "    raw_audio = AudioSegment.from_file(input_file)\n",
        "\n",
        "    # 16-bit (2 bytes)\n",
        "    raw_audio = raw_audio.set_sample_width(2)\n",
        "\n",
        "    # 預設轉為雙聲道layout\n",
        "    raw_audio = raw_audio.set_channels(2)\n",
        "\n",
        "    # resampling\n",
        "    raw_audio = raw_audio.set_frame_rate(sampling_rate)\n",
        "\n",
        "    raw_data = raw_audio.raw_data\n",
        "\n",
        "    dtype = get_array_type(raw_audio.sample_width * 8)\n",
        "    audio = np.frombuffer(raw_data, dtype=dtype)\n",
        "\n",
        "    # Convert s16 back to f32.\n",
        "    audio = audio.astype(np.float32) / 32768.0\n",
        "        \n",
        "    left_channel = audio[0::2]\n",
        "    right_channel = audio[1::2]\n",
        "    return left_channel, right_channel"
      ],
      "metadata": {
        "id": "FYxfRI66m2dv"
      },
      "execution_count": 6,
      "outputs": []
    },
    {
      "cell_type": "markdown",
      "metadata": {
        "id": "xk0WOXL2ayBL"
      },
      "source": [
        "## 載入模型\n",
        "\n",
        "有哪些模型可以使用呢? 請參考這裡: \n",
        "\n",
        "[https://github.com/openai/whisper#available-models-and-languages](https://github.com/openai/whisper#available-models-and-languages)"
      ]
    },
    {
      "cell_type": "code",
      "execution_count": 7,
      "metadata": {
        "colab": {
          "base_uri": "https://localhost:8080/"
        },
        "id": "jGjeDIpya1zb",
        "outputId": "d835f709-1d23-436d-9b90-9ecc8e28682c"
      },
      "outputs": [
        {
          "output_type": "stream",
          "name": "stderr",
          "text": [
            "100%|██████████████████████████████████████| 1.42G/1.42G [00:12<00:00, 122MiB/s]\n"
          ]
        }
      ],
      "source": [
        "import whisper\n",
        "model = whisper.load_model(\"medium\")"
      ]
    },
    {
      "cell_type": "markdown",
      "metadata": {
        "id": "j5wPk31bRYBL"
      },
      "source": [
        "## 左聲道進行辨識\n"
      ]
    },
    {
      "cell_type": "code",
      "execution_count": 20,
      "metadata": {
        "colab": {
          "base_uri": "https://localhost:8080/"
        },
        "id": "JSC_lgF5aWFE",
        "outputId": "90a0d9ed-c235-4b7d-af8b-2fdca1fd321e"
      },
      "outputs": [
        {
          "output_type": "stream",
          "name": "stderr",
          "text": [
            "/usr/local/lib/python3.10/dist-packages/whisper/transcribe.py:114: UserWarning: FP16 is not supported on CPU; using FP32 instead\n",
            "  warnings.warn(\"FP16 is not supported on CPU; using FP32 instead\")\n"
          ]
        },
        {
          "output_type": "stream",
          "name": "stdout",
          "text": [
            "[00:00.000 --> 00:06.000] 就是說他們這個台中的交通怎麼會變成這麼這樣\n",
            "[00:06.000 --> 00:10.000] 坐在半馬上也會被車子撞\n",
            "[00:10.000 --> 00:15.000] 一次把我帶走兩個,我只有這兩個而已\n",
            "[00:15.000 --> 00:20.000] 家裡多人是有重症\n",
            "[00:20.000 --> 00:25.000] 只有這個女的最優秀了\n",
            "[00:25.000 --> 00:28.000] 那妳是什麼時候接到消息的?\n",
            "[00:28.000 --> 00:30.000] 昨天晚上\n",
            "[00:30.000 --> 00:35.000] 昨天她八點還跟爸爸說我要開藥膏的藥廠\n",
            "[00:35.000 --> 00:38.000] 叫我去幫她申請登記\n",
            "[00:38.000 --> 00:44.000] 說她要開控室,叫我去幫她申請,我說好啊\n",
            "[00:44.000 --> 00:46.000] 那妳是從台北趕下來的嗎?\n",
            "[00:46.000 --> 00:48.000] 對啊\n",
            "[00:48.000 --> 00:50.000] 安安哥\n",
            "[00:55.000 --> 00:58.000] 市長,你說我要怎麼辦?\n",
            "[01:01.000 --> 01:05.000] 今天又被妳,被妳帶走\n",
            "[01:06.000 --> 01:09.000] 你說我該怎麼辦?市長\n",
            "[01:19.000 --> 01:22.000] 妳要不要吃藥?\n",
            "[01:37.000 --> 01:41.000] 是要帶孫子回去跟我一起住\n",
            "[01:42.000 --> 01:44.000] 不要過來\n",
            "[01:44.000 --> 01:46.000] 你看現在\n",
            "[01:46.000 --> 01:48.000] 要好好孝順我\n",
            "[01:48.000 --> 01:52.000] 只有這個女的,你看多孝順,多優秀\n",
            "[01:52.000 --> 01:57.000] 她在為妳讀書,妳看,是前年那一期吧\n",
            "[01:57.000 --> 02:00.000] 基本上,因為這個事發生\n",
            "[02:00.000 --> 02:03.000] 所以現在為什麼會發生,怎麼也沒有消息\n",
            "[02:03.000 --> 02:06.000] 那現在檢察官正在聊天當中\n",
            "[02:06.000 --> 02:09.000] 剛徵詢完司機\n",
            "[02:09.000 --> 02:12.000] 那現在請他的先生進行\n",
            "{'text': '就是說他們這個台中的交通怎麼會變成這麼這樣坐在半馬上也會被車子撞一次把我帶走兩個,我只有這兩個而已家裡多人是有重症只有這個女的最優秀了那妳是什麼時候接到消息的?昨天晚上昨天她八點還跟爸爸說我要開藥膏的藥廠叫我去幫她申請登記說她要開控室,叫我去幫她申請,我說好啊那妳是從台北趕下來的嗎?對啊安安哥市長,你說我要怎麼辦?今天又被妳,被妳帶走你說我該怎麼辦?市長妳要不要吃藥?是要帶孫子回去跟我一起住不要過來你看現在要好好孝順我只有這個女的,你看多孝順,多優秀她在為妳讀書,妳看,是前年那一期吧基本上,因為這個事發生所以現在為什麼會發生,怎麼也沒有消息那現在檢察官正在聊天當中剛徵詢完司機那現在請他的先生進行', 'segments': [{'id': 0, 'seek': 0, 'start': 0.0, 'end': 6.0, 'text': '就是說他們這個台中的交通怎麼會變成這麼這樣', 'tokens': [50364, 26222, 20486, 6287, 15433, 5975, 1546, 28455, 19550, 11614, 6236, 26327, 11336, 21269, 8377, 50664], 'temperature': 0.0, 'avg_logprob': -0.33656358027803723, 'compression_ratio': 1.1705882352941177, 'no_speech_prob': 0.32267412543296814}, {'id': 1, 'seek': 0, 'start': 6.0, 'end': 10.0, 'text': '坐在半馬上也會被車子撞', 'tokens': [50664, 31123, 3581, 30018, 29098, 5708, 6404, 6236, 23238, 25941, 7626, 20559, 252, 50864], 'temperature': 0.0, 'avg_logprob': -0.33656358027803723, 'compression_ratio': 1.1705882352941177, 'no_speech_prob': 0.32267412543296814}, {'id': 2, 'seek': 0, 'start': 10.0, 'end': 15.0, 'text': '一次把我帶走兩個,我只有這兩個而已', 'tokens': [50864, 27505, 16075, 1654, 32379, 9575, 34623, 11, 1654, 35244, 2664, 34623, 48420, 51114], 'temperature': 0.0, 'avg_logprob': -0.33656358027803723, 'compression_ratio': 1.1705882352941177, 'no_speech_prob': 0.32267412543296814}, {'id': 3, 'seek': 0, 'start': 15.0, 'end': 20.0, 'text': '家裡多人是有重症', 'tokens': [51114, 5155, 11066, 6392, 4035, 1541, 2412, 12624, 15553, 229, 51364], 'temperature': 0.0, 'avg_logprob': -0.33656358027803723, 'compression_ratio': 1.1705882352941177, 'no_speech_prob': 0.32267412543296814}, {'id': 4, 'seek': 0, 'start': 20.0, 'end': 25.0, 'text': '只有這個女的最優秀了', 'tokens': [51364, 35244, 6287, 17015, 1546, 8661, 12827, 103, 8204, 222, 2289, 51614], 'temperature': 0.0, 'avg_logprob': -0.33656358027803723, 'compression_ratio': 1.1705882352941177, 'no_speech_prob': 0.32267412543296814}, {'id': 5, 'seek': 2500, 'start': 25.0, 'end': 28.0, 'text': '那妳是什麼時候接到消息的?', 'tokens': [50364, 4184, 18153, 35851, 14010, 14468, 4511, 28837, 26460, 1546, 30, 50514], 'temperature': 0.0, 'avg_logprob': -0.20314826136050018, 'compression_ratio': 1.2598870056497176, 'no_speech_prob': 0.3200783431529999}, {'id': 6, 'seek': 2500, 'start': 28.0, 'end': 30.0, 'text': '昨天晚上', 'tokens': [50514, 47404, 6135, 50157, 50614], 'temperature': 0.0, 'avg_logprob': -0.20314826136050018, 'compression_ratio': 1.2598870056497176, 'no_speech_prob': 0.3200783431529999}, {'id': 7, 'seek': 2500, 'start': 30.0, 'end': 35.0, 'text': '昨天她八點還跟爸爸說我要開藥膏的藥廠', 'tokens': [50614, 47404, 6135, 15555, 33453, 8216, 7824, 9678, 49105, 4622, 32186, 8949, 21782, 98, 39708, 237, 1546, 21782, 98, 17527, 254, 50864], 'temperature': 0.0, 'avg_logprob': -0.20314826136050018, 'compression_ratio': 1.2598870056497176, 'no_speech_prob': 0.3200783431529999}, {'id': 8, 'seek': 2500, 'start': 35.0, 'end': 38.0, 'text': '叫我去幫她申請登記', 'tokens': [50864, 19855, 1654, 6734, 32187, 15555, 3526, 111, 16302, 25874, 16958, 51014], 'temperature': 0.0, 'avg_logprob': -0.20314826136050018, 'compression_ratio': 1.2598870056497176, 'no_speech_prob': 0.3200783431529999}, {'id': 9, 'seek': 2500, 'start': 38.0, 'end': 44.0, 'text': '說她要開控室,叫我去幫她申請,我說好啊', 'tokens': [51014, 4622, 15555, 4275, 8949, 48707, 2415, 97, 11, 19855, 1654, 6734, 32187, 15555, 3526, 111, 16302, 11, 34206, 2131, 4905, 51314], 'temperature': 0.0, 'avg_logprob': -0.20314826136050018, 'compression_ratio': 1.2598870056497176, 'no_speech_prob': 0.3200783431529999}, {'id': 10, 'seek': 2500, 'start': 44.0, 'end': 46.0, 'text': '那妳是從台北趕下來的嗎?', 'tokens': [51314, 4184, 18153, 1541, 21068, 15433, 26668, 9759, 243, 27769, 1546, 7434, 30, 51414], 'temperature': 0.0, 'avg_logprob': -0.20314826136050018, 'compression_ratio': 1.2598870056497176, 'no_speech_prob': 0.3200783431529999}, {'id': 11, 'seek': 2500, 'start': 46.0, 'end': 48.0, 'text': '對啊', 'tokens': [51414, 17813, 51514], 'temperature': 0.0, 'avg_logprob': -0.20314826136050018, 'compression_ratio': 1.2598870056497176, 'no_speech_prob': 0.3200783431529999}, {'id': 12, 'seek': 4800, 'start': 48.0, 'end': 50.0, 'text': '安安哥', 'tokens': [50364, 16206, 16206, 14078, 50464], 'temperature': 0.0, 'avg_logprob': -0.618906511579241, 'compression_ratio': 1.146341463414634, 'no_speech_prob': 0.09719327837228775}, {'id': 13, 'seek': 4800, 'start': 55.0, 'end': 58.0, 'text': '市長,你說我要怎麼辦?', 'tokens': [50714, 27261, 15353, 11, 42920, 32186, 42511, 30, 50864], 'temperature': 0.0, 'avg_logprob': -0.618906511579241, 'compression_ratio': 1.146341463414634, 'no_speech_prob': 0.09719327837228775}, {'id': 14, 'seek': 4800, 'start': 61.0, 'end': 65.0, 'text': '今天又被妳,被妳帶走', 'tokens': [51014, 12074, 17047, 23238, 18153, 11, 23238, 18153, 32379, 9575, 51214], 'temperature': 0.0, 'avg_logprob': -0.618906511579241, 'compression_ratio': 1.146341463414634, 'no_speech_prob': 0.09719327837228775}, {'id': 15, 'seek': 4800, 'start': 66.0, 'end': 69.0, 'text': '你說我該怎麼辦?市長', 'tokens': [51264, 42920, 1654, 22033, 42511, 30, 27261, 15353, 51414], 'temperature': 0.0, 'avg_logprob': -0.618906511579241, 'compression_ratio': 1.146341463414634, 'no_speech_prob': 0.09719327837228775}, {'id': 16, 'seek': 7800, 'start': 79.0, 'end': 82.0, 'text': '妳要不要吃藥?', 'tokens': [50414, 18153, 4275, 11962, 10123, 21782, 98, 30, 50564], 'temperature': 0.0, 'avg_logprob': -0.626832505931025, 'compression_ratio': 0.859375, 'no_speech_prob': 0.16922487318515778}, {'id': 17, 'seek': 7800, 'start': 97.0, 'end': 101.0, 'text': '是要帶孫子回去跟我一起住', 'tokens': [51314, 1541, 4275, 32379, 8052, 104, 7626, 49925, 47472, 29567, 21632, 51514], 'temperature': 0.0, 'avg_logprob': -0.626832505931025, 'compression_ratio': 0.859375, 'no_speech_prob': 0.16922487318515778}, {'id': 18, 'seek': 10100, 'start': 102.0, 'end': 104.0, 'text': '不要過來', 'tokens': [50414, 11962, 49950, 50514], 'temperature': 0.0, 'avg_logprob': -0.38994076566876107, 'compression_ratio': 1.25, 'no_speech_prob': 0.14876984059810638}, {'id': 19, 'seek': 10100, 'start': 104.0, 'end': 106.0, 'text': '你看現在', 'tokens': [50514, 16529, 12648, 50614], 'temperature': 0.0, 'avg_logprob': -0.38994076566876107, 'compression_ratio': 1.25, 'no_speech_prob': 0.14876984059810638}, {'id': 20, 'seek': 10100, 'start': 106.0, 'end': 108.0, 'text': '要好好孝順我', 'tokens': [50614, 4275, 30164, 8052, 251, 8313, 228, 1654, 50714], 'temperature': 0.0, 'avg_logprob': -0.38994076566876107, 'compression_ratio': 1.25, 'no_speech_prob': 0.14876984059810638}, {'id': 21, 'seek': 10100, 'start': 108.0, 'end': 112.0, 'text': '只有這個女的,你看多孝順,多優秀', 'tokens': [50714, 35244, 6287, 17015, 1546, 11, 16529, 6392, 8052, 251, 8313, 228, 11, 6392, 12827, 103, 8204, 222, 50914], 'temperature': 0.0, 'avg_logprob': -0.38994076566876107, 'compression_ratio': 1.25, 'no_speech_prob': 0.14876984059810638}, {'id': 22, 'seek': 10100, 'start': 112.0, 'end': 117.0, 'text': '她在為妳讀書,妳看,是前年那一期吧', 'tokens': [50914, 15555, 3581, 6344, 18153, 7422, 222, 29801, 11, 18153, 4200, 11, 1541, 8945, 5157, 4184, 2257, 16786, 6062, 51164], 'temperature': 0.0, 'avg_logprob': -0.38994076566876107, 'compression_ratio': 1.25, 'no_speech_prob': 0.14876984059810638}, {'id': 23, 'seek': 10100, 'start': 117.0, 'end': 120.0, 'text': '基本上,因為這個事發生', 'tokens': [51164, 37946, 5708, 11, 11471, 6287, 6973, 14637, 8244, 51314], 'temperature': 0.0, 'avg_logprob': -0.38994076566876107, 'compression_ratio': 1.25, 'no_speech_prob': 0.14876984059810638}, {'id': 24, 'seek': 10100, 'start': 120.0, 'end': 123.0, 'text': '所以現在為什麼會發生,怎麼也沒有消息', 'tokens': [51314, 7239, 12648, 18987, 6236, 14637, 8244, 11, 11614, 6404, 6963, 28837, 26460, 51464], 'temperature': 0.0, 'avg_logprob': -0.38994076566876107, 'compression_ratio': 1.25, 'no_speech_prob': 0.14876984059810638}, {'id': 25, 'seek': 10100, 'start': 123.0, 'end': 126.0, 'text': '那現在檢察官正在聊天當中', 'tokens': [51464, 4184, 12648, 40741, 95, 47550, 31929, 15789, 3581, 40096, 6135, 13118, 5975, 51614], 'temperature': 0.0, 'avg_logprob': -0.38994076566876107, 'compression_ratio': 1.25, 'no_speech_prob': 0.14876984059810638}, {'id': 26, 'seek': 10100, 'start': 126.0, 'end': 129.0, 'text': '剛徵詢完司機', 'tokens': [51614, 16940, 2172, 113, 6716, 95, 14128, 32981, 17543, 51764], 'temperature': 0.0, 'avg_logprob': -0.38994076566876107, 'compression_ratio': 1.25, 'no_speech_prob': 0.14876984059810638}, {'id': 27, 'seek': 12900, 'start': 129.0, 'end': 132.0, 'text': '那現在請他的先生進行', 'tokens': [50364, 4184, 12648, 16302, 31309, 33083, 18214, 8082, 50514], 'temperature': 0.0, 'avg_logprob': -0.4007117748260498, 'compression_ratio': 0.7317073170731707, 'no_speech_prob': 0.16103781759738922}], 'language': 'zh'}\n"
          ]
        }
      ],
      "source": [
        "import numpy as np\n",
        "\n",
        "# np.frombuffer(out, np.int16).flatten().astype(np.float32) / 32768.0\n",
        "left, right = decode_audio(buffer)\n",
        "\n",
        "result = model.transcribe(left, language='zh', verbose=True, initial_prompt='請給我繁體中文的語音辨識。', no_speech_threshold=1.2)\n",
        "\n",
        "print(result)"
      ]
    },
    {
      "cell_type": "markdown",
      "source": [
        "## 對右聲道進行辨識"
      ],
      "metadata": {
        "id": "_5F-8152jL8t"
      }
    },
    {
      "cell_type": "code",
      "source": [
        "result = model.transcribe(right, language='zh', verbose=True, initial_prompt='請給我繁體中文的語音辨識。')\n",
        "\n",
        "print(result)"
      ],
      "metadata": {
        "colab": {
          "base_uri": "https://localhost:8080/"
        },
        "id": "-dOw8MhCjQFd",
        "outputId": "a3ec5599-e21c-4b33-89db-4766c1c92b95"
      },
      "execution_count": 21,
      "outputs": [
        {
          "output_type": "stream",
          "name": "stdout",
          "text": [
            "[00:00.000 --> 00:06.000] 就是說他們這個台中的交通怎麼會變成這樣\n",
            "[00:06.000 --> 00:11.000] 坐在半馬上也會被車子撞的\n",
            "[00:11.000 --> 00:16.000] 一次把我帶走兩個 我只有這兩個而已\n",
            "[00:16.000 --> 00:20.000] 家裡一個兒子也有重傷\n",
            "[00:20.000 --> 00:25.000] 只有這個女兒最優秀而已\n",
            "[00:25.000 --> 00:27.000] 那你現在什麼時候接到消息\n",
            "[00:27.000 --> 00:30.000] 昨天晚上\n",
            "[00:30.000 --> 00:35.000] 昨天他八點還跟爸爸說我要開藥膏的藥廠\n",
            "[00:35.000 --> 00:38.000] 叫我去幫他申請登記\n",
            "[00:38.000 --> 00:43.000] 說他要開控室 叫我去幫他申請不夠好\n",
            "[00:44.000 --> 00:46.000] 那你是從台北上下啊\n",
            "[00:46.000 --> 00:48.000] 對啊\n",
            "[00:48.000 --> 00:50.000] 安安哥\n",
            "[00:55.000 --> 00:58.000] 師父你說我要怎麼辦\n",
            "[01:01.000 --> 01:05.000] 今天又被你帶走被帶走\n",
            "[01:06.000 --> 01:09.000] 你說我開了嗎 師父\n",
            "[01:19.000 --> 01:23.000] 現在都知道說還在外面\n",
            "[01:33.000 --> 01:36.000] 我生來在這個大陸\n",
            "[01:37.000 --> 01:41.000] 是需要帶孫子美景跟我一起住\n",
            "[01:42.000 --> 01:45.000] 從那過年到現在\n",
            "[01:45.000 --> 01:48.000] 要好好孝順我\n",
            "[01:48.000 --> 01:50.000] 只有這個女兒你很多孝順\n",
            "[01:50.000 --> 01:52.000] 多優秀\n",
            "[01:52.000 --> 01:54.000] 她在外地讀書\n",
            "[01:54.000 --> 01:56.000] 你解迷你解忙\n",
            "[01:57.000 --> 01:59.000] 基本上因為這場發生\n",
            "[01:59.000 --> 02:03.000] 現在為什麼會發生這麼嚴重的事情\n",
            "[02:03.000 --> 02:06.000] 現在檢察官正在了解當中\n",
            "[02:06.000 --> 02:09.000] 剛徵詢晚時機\n",
            "[02:09.000 --> 02:11.000] 現在其他的先生進不去\n",
            "{'text': '就是說他們這個台中的交通怎麼會變成這樣坐在半馬上也會被車子撞的一次把我帶走兩個 我只有這兩個而已家裡一個兒子也有重傷只有這個女兒最優秀而已那你現在什麼時候接到消息昨天晚上昨天他八點還跟爸爸說我要開藥膏的藥廠叫我去幫他申請登記說他要開控室 叫我去幫他申請不夠好那你是從台北上下啊對啊安安哥師父你說我要怎麼辦今天又被你帶走被帶走你說我開了嗎 師父現在都知道說還在外面我生來在這個大陸是需要帶孫子美景跟我一起住從那過年到現在要好好孝順我只有這個女兒你很多孝順多優秀她在外地讀書你解迷你解忙基本上因為這場發生現在為什麼會發生這麼嚴重的事情現在檢察官正在了解當中剛徵詢晚時機現在其他的先生進不去', 'segments': [{'id': 0, 'seek': 0, 'start': 0.0, 'end': 6.0, 'text': '就是說他們這個台中的交通怎麼會變成這樣', 'tokens': [50364, 26222, 20486, 6287, 15433, 5975, 1546, 28455, 19550, 11614, 6236, 26327, 11336, 8377, 50664], 'temperature': 0.0, 'avg_logprob': -0.2909505819972557, 'compression_ratio': 1.2487046632124352, 'no_speech_prob': 0.23733015358448029}, {'id': 1, 'seek': 0, 'start': 6.0, 'end': 11.0, 'text': '坐在半馬上也會被車子撞的', 'tokens': [50664, 31123, 3581, 30018, 29098, 5708, 6404, 6236, 23238, 25941, 7626, 20559, 252, 1546, 50914], 'temperature': 0.0, 'avg_logprob': -0.2909505819972557, 'compression_ratio': 1.2487046632124352, 'no_speech_prob': 0.23733015358448029}, {'id': 2, 'seek': 0, 'start': 11.0, 'end': 16.0, 'text': '一次把我帶走兩個 我只有這兩個而已', 'tokens': [50914, 27505, 16075, 1654, 32379, 9575, 34623, 8624, 35244, 2664, 34623, 48420, 51164], 'temperature': 0.0, 'avg_logprob': -0.2909505819972557, 'compression_ratio': 1.2487046632124352, 'no_speech_prob': 0.23733015358448029}, {'id': 3, 'seek': 0, 'start': 16.0, 'end': 20.0, 'text': '家裡一個兒子也有重傷', 'tokens': [51164, 5155, 11066, 8990, 35125, 7626, 6404, 2412, 12624, 41323, 51364], 'temperature': 0.0, 'avg_logprob': -0.2909505819972557, 'compression_ratio': 1.2487046632124352, 'no_speech_prob': 0.23733015358448029}, {'id': 4, 'seek': 0, 'start': 20.0, 'end': 25.0, 'text': '只有這個女兒最優秀而已', 'tokens': [51364, 35244, 6287, 17015, 35125, 8661, 12827, 103, 8204, 222, 48420, 51614], 'temperature': 0.0, 'avg_logprob': -0.2909505819972557, 'compression_ratio': 1.2487046632124352, 'no_speech_prob': 0.23733015358448029}, {'id': 5, 'seek': 0, 'start': 25.0, 'end': 27.0, 'text': '那你現在什麼時候接到消息', 'tokens': [51614, 4184, 2166, 12648, 7598, 14010, 14468, 4511, 28837, 26460, 51714], 'temperature': 0.0, 'avg_logprob': -0.2909505819972557, 'compression_ratio': 1.2487046632124352, 'no_speech_prob': 0.23733015358448029}, {'id': 6, 'seek': 2700, 'start': 27.0, 'end': 30.0, 'text': '昨天晚上', 'tokens': [50364, 47404, 6135, 50157, 50514], 'temperature': 0.0, 'avg_logprob': -0.19235538482666015, 'compression_ratio': 1.1986301369863013, 'no_speech_prob': 0.04216346517205238}, {'id': 7, 'seek': 2700, 'start': 30.0, 'end': 35.0, 'text': '昨天他八點還跟爸爸說我要開藥膏的藥廠', 'tokens': [50514, 47404, 6135, 5000, 33453, 8216, 7824, 9678, 49105, 4622, 32186, 8949, 21782, 98, 39708, 237, 1546, 21782, 98, 17527, 254, 50764], 'temperature': 0.0, 'avg_logprob': -0.19235538482666015, 'compression_ratio': 1.1986301369863013, 'no_speech_prob': 0.04216346517205238}, {'id': 8, 'seek': 2700, 'start': 35.0, 'end': 38.0, 'text': '叫我去幫他申請登記', 'tokens': [50764, 19855, 1654, 6734, 32187, 5000, 3526, 111, 16302, 25874, 16958, 50914], 'temperature': 0.0, 'avg_logprob': -0.19235538482666015, 'compression_ratio': 1.1986301369863013, 'no_speech_prob': 0.04216346517205238}, {'id': 9, 'seek': 2700, 'start': 38.0, 'end': 43.0, 'text': '說他要開控室 叫我去幫他申請不夠好', 'tokens': [50914, 4622, 5000, 4275, 8949, 48707, 2415, 97, 220, 19855, 1654, 6734, 32187, 5000, 3526, 111, 16302, 1960, 31649, 2131, 51164], 'temperature': 0.0, 'avg_logprob': -0.19235538482666015, 'compression_ratio': 1.1986301369863013, 'no_speech_prob': 0.04216346517205238}, {'id': 10, 'seek': 2700, 'start': 44.0, 'end': 46.0, 'text': '那你是從台北上下啊', 'tokens': [51214, 4184, 32526, 21068, 15433, 26668, 5708, 4438, 4905, 51314], 'temperature': 0.0, 'avg_logprob': -0.19235538482666015, 'compression_ratio': 1.1986301369863013, 'no_speech_prob': 0.04216346517205238}, {'id': 11, 'seek': 2700, 'start': 46.0, 'end': 48.0, 'text': '對啊', 'tokens': [51314, 17813, 51414], 'temperature': 0.0, 'avg_logprob': -0.19235538482666015, 'compression_ratio': 1.1986301369863013, 'no_speech_prob': 0.04216346517205238}, {'id': 12, 'seek': 4800, 'start': 48.0, 'end': 50.0, 'text': '安安哥', 'tokens': [50364, 16206, 16206, 14078, 50464], 'temperature': 0.0, 'avg_logprob': -0.599665641784668, 'compression_ratio': 1.058139534883721, 'no_speech_prob': 0.11376755684614182}, {'id': 13, 'seek': 4800, 'start': 55.0, 'end': 58.0, 'text': '師父你說我要怎麼辦', 'tokens': [50714, 16276, 34131, 42920, 32186, 42511, 50864], 'temperature': 0.0, 'avg_logprob': -0.599665641784668, 'compression_ratio': 1.058139534883721, 'no_speech_prob': 0.11376755684614182}, {'id': 14, 'seek': 4800, 'start': 61.0, 'end': 65.0, 'text': '今天又被你帶走被帶走', 'tokens': [51014, 12074, 17047, 23238, 2166, 32379, 9575, 23238, 32379, 9575, 51214], 'temperature': 0.0, 'avg_logprob': -0.599665641784668, 'compression_ratio': 1.058139534883721, 'no_speech_prob': 0.11376755684614182}, {'id': 15, 'seek': 4800, 'start': 66.0, 'end': 69.0, 'text': '你說我開了嗎 師父', 'tokens': [51264, 42920, 1654, 8949, 2289, 7434, 220, 16276, 34131, 51414], 'temperature': 0.0, 'avg_logprob': -0.599665641784668, 'compression_ratio': 1.058139534883721, 'no_speech_prob': 0.11376755684614182}, {'id': 16, 'seek': 7800, 'start': 79.0, 'end': 83.0, 'text': '現在都知道說還在外面', 'tokens': [50414, 12648, 7182, 7758, 4622, 7824, 3581, 12022, 8833, 50614], 'temperature': 0.0, 'avg_logprob': -0.7680647206860919, 'compression_ratio': 0.9743589743589743, 'no_speech_prob': 0.16211269795894623}, {'id': 17, 'seek': 7800, 'start': 93.0, 'end': 96.0, 'text': '我生來在這個大陸', 'tokens': [51114, 1654, 8244, 3763, 3581, 6287, 3582, 8842, 116, 51264], 'temperature': 0.0, 'avg_logprob': -0.7680647206860919, 'compression_ratio': 0.9743589743589743, 'no_speech_prob': 0.16211269795894623}, {'id': 18, 'seek': 7800, 'start': 97.0, 'end': 101.0, 'text': '是需要帶孫子美景跟我一起住', 'tokens': [51314, 1541, 35748, 32379, 8052, 104, 7626, 9175, 50218, 47472, 29567, 21632, 51514], 'temperature': 0.0, 'avg_logprob': -0.7680647206860919, 'compression_ratio': 0.9743589743589743, 'no_speech_prob': 0.16211269795894623}, {'id': 19, 'seek': 7800, 'start': 102.0, 'end': 105.0, 'text': '從那過年到現在', 'tokens': [51564, 21068, 4184, 8816, 5157, 4511, 12648, 51714], 'temperature': 0.0, 'avg_logprob': -0.7680647206860919, 'compression_ratio': 0.9743589743589743, 'no_speech_prob': 0.16211269795894623}, {'id': 20, 'seek': 10500, 'start': 105.0, 'end': 108.0, 'text': '要好好孝順我', 'tokens': [50364, 4275, 30164, 8052, 251, 8313, 228, 1654, 50514], 'temperature': 0.0, 'avg_logprob': -0.35595355314366955, 'compression_ratio': 1.2388059701492538, 'no_speech_prob': 0.2406408190727234}, {'id': 21, 'seek': 10500, 'start': 108.0, 'end': 110.0, 'text': '只有這個女兒你很多孝順', 'tokens': [50514, 35244, 6287, 17015, 35125, 2166, 4563, 6392, 8052, 251, 8313, 228, 50614], 'temperature': 0.0, 'avg_logprob': -0.35595355314366955, 'compression_ratio': 1.2388059701492538, 'no_speech_prob': 0.2406408190727234}, {'id': 22, 'seek': 10500, 'start': 110.0, 'end': 112.0, 'text': '多優秀', 'tokens': [50614, 6392, 12827, 103, 8204, 222, 50714], 'temperature': 0.0, 'avg_logprob': -0.35595355314366955, 'compression_ratio': 1.2388059701492538, 'no_speech_prob': 0.2406408190727234}, {'id': 23, 'seek': 10500, 'start': 112.0, 'end': 114.0, 'text': '她在外地讀書', 'tokens': [50714, 15555, 3581, 12022, 10928, 7422, 222, 29801, 50814], 'temperature': 0.0, 'avg_logprob': -0.35595355314366955, 'compression_ratio': 1.2388059701492538, 'no_speech_prob': 0.2406408190727234}, {'id': 24, 'seek': 10500, 'start': 114.0, 'end': 116.0, 'text': '你解迷你解忙', 'tokens': [50814, 2166, 17278, 3316, 115, 2166, 17278, 48839, 50914], 'temperature': 0.0, 'avg_logprob': -0.35595355314366955, 'compression_ratio': 1.2388059701492538, 'no_speech_prob': 0.2406408190727234}, {'id': 25, 'seek': 10500, 'start': 117.0, 'end': 119.0, 'text': '基本上因為這場發生', 'tokens': [50964, 37946, 5708, 11471, 2664, 21446, 14637, 8244, 51064], 'temperature': 0.0, 'avg_logprob': -0.35595355314366955, 'compression_ratio': 1.2388059701492538, 'no_speech_prob': 0.2406408190727234}, {'id': 26, 'seek': 10500, 'start': 119.0, 'end': 123.0, 'text': '現在為什麼會發生這麼嚴重的事情', 'tokens': [51064, 12648, 18987, 6236, 14637, 8244, 21269, 29593, 112, 12624, 1546, 24675, 51264], 'temperature': 0.0, 'avg_logprob': -0.35595355314366955, 'compression_ratio': 1.2388059701492538, 'no_speech_prob': 0.2406408190727234}, {'id': 27, 'seek': 10500, 'start': 123.0, 'end': 126.0, 'text': '現在檢察官正在了解當中', 'tokens': [51264, 12648, 40741, 95, 47550, 31929, 15789, 3581, 2289, 17278, 13118, 5975, 51414], 'temperature': 0.0, 'avg_logprob': -0.35595355314366955, 'compression_ratio': 1.2388059701492538, 'no_speech_prob': 0.2406408190727234}, {'id': 28, 'seek': 10500, 'start': 126.0, 'end': 129.0, 'text': '剛徵詢晚時機', 'tokens': [51414, 16940, 2172, 113, 6716, 95, 27080, 6611, 17543, 51564], 'temperature': 0.0, 'avg_logprob': -0.35595355314366955, 'compression_ratio': 1.2388059701492538, 'no_speech_prob': 0.2406408190727234}, {'id': 29, 'seek': 10500, 'start': 129.0, 'end': 131.0, 'text': '現在其他的先生進不去', 'tokens': [51564, 12648, 9572, 31309, 33083, 18214, 1960, 6734, 51664], 'temperature': 0.0, 'avg_logprob': -0.35595355314366955, 'compression_ratio': 1.2388059701492538, 'no_speech_prob': 0.2406408190727234}], 'language': 'zh'}\n"
          ]
        }
      ]
    }
  ],
  "metadata": {
    "colab": {
      "toc_visible": true,
      "provenance": [],
      "gpuType": "T4",
      "authorship_tag": "ABX9TyM+bxqvt6k8w2hKuL67+q31",
      "include_colab_link": true
    },
    "kernelspec": {
      "display_name": "Python 3",
      "name": "python3"
    },
    "language_info": {
      "name": "python"
    },
    "gpuClass": "standard"
  },
  "nbformat": 4,
  "nbformat_minor": 0
}